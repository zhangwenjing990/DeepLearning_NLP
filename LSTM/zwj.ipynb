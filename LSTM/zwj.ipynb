{
 "cells": [
  {
   "cell_type": "markdown",
   "metadata": {},
   "source": [
    "gensim学习：\n",
    "https://zhuanlan.zhihu.com/p/37175253\n",
    "https://blog.csdn.net/sinat_26917383/article/details/69803018"
   ]
  },
  {
   "cell_type": "code",
   "execution_count": 1,
   "metadata": {},
   "outputs": [],
   "source": [
    "import numpy as np\n",
    "import matplotlib.pyplot as plt\n",
    "import re\n",
    "import jieba\n",
    "from gensim.models import KeyedVectors\n",
    "import warnings\n",
    "warnings.filterwarnings('ignore')\n",
    "import bz2"
   ]
  },
  {
   "cell_type": "code",
   "execution_count": 2,
   "metadata": {},
   "outputs": [],
   "source": [
    "# with open('embeddings/sgns.zhihu.bigram','wb') as new_file,open('embeddings/sgns.zhihu.bigram.bz2','rb') as file:\n",
    "#     decompressor=bz2.BZ2Decompressor()\n",
    "#     for data in iter(lambda:file.read(100*1024),b''):\n",
    "#         new_file.write(decompressor.decompress(data))"
   ]
  },
  {
   "cell_type": "code",
   "execution_count": 3,
   "metadata": {},
   "outputs": [],
   "source": [
    "cn_model=KeyedVectors.load_word2vec_format('embeddings/sgns.zhihu.bigram',binary=False,unicode_errors='ignore')"
   ]
  },
  {
   "cell_type": "code",
   "execution_count": 21,
   "metadata": {},
   "outputs": [
    {
     "data": {
      "text/plain": [
       "300"
      ]
     },
     "execution_count": 21,
     "metadata": {},
     "output_type": "execute_result"
    }
   ],
   "source": [
    "embedding_dim=cn_model['山东大学'].shape[0]\n",
    "embedding_dim"
   ]
  },
  {
   "cell_type": "code",
   "execution_count": 22,
   "metadata": {},
   "outputs": [
    {
     "data": {
      "text/plain": [
       "0.66128117"
      ]
     },
     "execution_count": 22,
     "metadata": {},
     "output_type": "execute_result"
    }
   ],
   "source": [
    "cn_model.similarity('橘子','橙子')"
   ]
  },
  {
   "cell_type": "code",
   "execution_count": 23,
   "metadata": {},
   "outputs": [
    {
     "data": {
      "text/plain": [
       "0.66128117"
      ]
     },
     "execution_count": 23,
     "metadata": {},
     "output_type": "execute_result"
    }
   ],
   "source": [
    "np.dot(cn_model['橘子']/np.linalg.norm(cn_model['橘子']),cn_model['橙子']/np.linalg.norm(cn_model['橙子']))"
   ]
  },
  {
   "cell_type": "code",
   "execution_count": 40,
   "metadata": {},
   "outputs": [
    {
     "data": {
      "text/plain": [
       "[('圣女果', 0.6986043453216553),\n",
       " ('火龙果', 0.6928063631057739),\n",
       " ('哈密瓜', 0.6855860948562622),\n",
       " ('山竹', 0.6833729147911072),\n",
       " ('油桃', 0.682028591632843),\n",
       " ('卷心菜', 0.6734050512313843),\n",
       " ('板栗', 0.6704466938972473),\n",
       " ('百香果', 0.6689621806144714),\n",
       " ('梨子', 0.6672431230545044),\n",
       " ('桃子', 0.6646143794059753)]"
      ]
     },
     "execution_count": 40,
     "metadata": {},
     "output_type": "execute_result"
    }
   ],
   "source": [
    "cn_model.most_similar(positive=['橘子'],topn=10)"
   ]
  },
  {
   "cell_type": "code",
   "execution_count": 41,
   "metadata": {},
   "outputs": [
    {
     "data": {
      "text/plain": [
       "[('火龙果', 0.7393988370895386),\n",
       " ('哈密瓜', 0.7348312139511108),\n",
       " ('桃子', 0.7337439060211182),\n",
       " ('圣女果', 0.7326869368553162),\n",
       " ('柚子', 0.7324603796005249),\n",
       " ('山竹', 0.7232064008712769),\n",
       " ('梨子', 0.722402811050415),\n",
       " ('油桃', 0.7187268733978271),\n",
       " ('卷心菜', 0.7105546593666077),\n",
       " ('金桔', 0.7091059684753418)]"
      ]
     },
     "execution_count": 41,
     "metadata": {},
     "output_type": "execute_result"
    }
   ],
   "source": [
    "cn_model.most_similar(positive=['橘子','橙子'],topn=10)"
   ]
  },
  {
   "cell_type": "code",
   "execution_count": null,
   "metadata": {},
   "outputs": [],
   "source": []
  },
  {
   "cell_type": "code",
   "execution_count": 52,
   "metadata": {},
   "outputs": [],
   "source": [
    "# import os\n",
    "# pos_txts=os.listdir('pos')\n",
    "# neg_txts=os.listdir('neg')"
   ]
  },
  {
   "cell_type": "code",
   "execution_count": 92,
   "metadata": {},
   "outputs": [
    {
     "name": "stdout",
     "output_type": "stream",
     "text": [
      "样本总量：4000\n"
     ]
    }
   ],
   "source": [
    "# print('样本总量：{}'.format(len(pos_txts)+len(neg_txts)))"
   ]
  },
  {
   "cell_type": "code",
   "execution_count": 4,
   "metadata": {},
   "outputs": [],
   "source": [
    "train_texts_orig=[]\n",
    "train_target=[]\n",
    "with open('positive_samples.txt','r',encoding='utf-8') as f:\n",
    "    lines=f.readlines()\n",
    "    for line in lines:\n",
    "        dic=eval(line)\n",
    "        train_texts_orig.append(dic['text'])\n",
    "        train_target.append(dic['label'])\n",
    "\n",
    "with open('negative_samples.txt','r',encoding='utf-8') as f:\n",
    "    lines=f.readlines()\n",
    "    for line in lines:\n",
    "        dic=eval(line)\n",
    "        train_texts_orig.append(dic['text'])\n",
    "        train_target.append(dic['label'])"
   ]
  },
  {
   "cell_type": "code",
   "execution_count": null,
   "metadata": {
    "scrolled": false
   },
   "outputs": [],
   "source": [
    "train_texts_orig"
   ]
  },
  {
   "cell_type": "code",
   "execution_count": 69,
   "metadata": {},
   "outputs": [],
   "source": [
    "from tensorflow.keras.models import Sequential\n",
    "from tensorflow.keras.layers import Dense,GRU,Embedding,LSTM,Bidirectional\n",
    "from tensorflow.keras.preprocessing.text import Tokenizer\n",
    "from tensorflow.keras.preprocessing.sequence import pad_sequences\n",
    "from tensorflow.keras.optimizers import RMSprop\n",
    "from tensorflow.keras.optimizers import Adam\n",
    "from tensorflow.python.keras.callbacks import EarlyStopping,ModelCheckpoint,TensorBoard,ReduceLROnPlateau"
   ]
  },
  {
   "cell_type": "code",
   "execution_count": 94,
   "metadata": {},
   "outputs": [],
   "source": [
    "train_tokens=[]\n",
    "for text in train_texts_orig:\n",
    "    text=re.sub('[\\s+\\.\\!\\/_,$%^*(+\\\"\\']+|[+——！，。？、~@#￥%……&*（）]+','',text)\n",
    "    cut=jieba.cut(text)\n",
    "    cut_list=[i for i in cut]\n",
    "    for i,word in enumerate(cut_list):\n",
    "        try:\n",
    "            cut_list[i]=cn_model.vocab[word].index\n",
    "        except KeyError:\n",
    "            cut_list[i]=0\n",
    "    train_tokens.append(cut_list)\n",
    "                "
   ]
  },
  {
   "cell_type": "code",
   "execution_count": 137,
   "metadata": {},
   "outputs": [
    {
     "data": {
      "text/plain": [
       "[4656,\n",
       " 163,\n",
       " 710,\n",
       " 909,\n",
       " 32,\n",
       " 328,\n",
       " 12,\n",
       " 1899,\n",
       " 18,\n",
       " 8685,\n",
       " 1604,\n",
       " 1,\n",
       " 1845,\n",
       " 144,\n",
       " 2420,\n",
       " 153,\n",
       " 36,\n",
       " 75,\n",
       " 3,\n",
       " 1487,\n",
       " 571,\n",
       " 34,\n",
       " 72]"
      ]
     },
     "execution_count": 137,
     "metadata": {},
     "output_type": "execute_result"
    }
   ],
   "source": [
    "train_tokens[0]"
   ]
  },
  {
   "cell_type": "code",
   "execution_count": 95,
   "metadata": {
    "scrolled": false
   },
   "outputs": [],
   "source": [
    "#获取每行 分词的个数\n",
    "num_tokens=[len(tokens) for tokens in train_tokens]\n",
    "num_tokens=np.array(num_tokens)"
   ]
  },
  {
   "cell_type": "code",
   "execution_count": 96,
   "metadata": {},
   "outputs": [
    {
     "data": {
      "text/plain": [
       "71.4495"
      ]
     },
     "execution_count": 96,
     "metadata": {},
     "output_type": "execute_result"
    }
   ],
   "source": [
    "np.mean(num_tokens)"
   ]
  },
  {
   "cell_type": "code",
   "execution_count": 97,
   "metadata": {},
   "outputs": [
    {
     "data": {
      "text/plain": [
       "1540"
      ]
     },
     "execution_count": 97,
     "metadata": {},
     "output_type": "execute_result"
    }
   ],
   "source": [
    "np.max(num_tokens)"
   ]
  },
  {
   "cell_type": "code",
   "execution_count": 109,
   "metadata": {},
   "outputs": [
    {
     "data": {
      "image/png": "[encoded data removed]",
      "text/plain": [
       "<Figure size 432x288 with 1 Axes>"
      ]
     },
     "metadata": {
      "needs_background": "light"
     },
     "output_type": "display_data"
    }
   ],
   "source": [
    "plt.hist(np.log(num_tokens),bins=100)\n",
    "plt.xlim(0,10)\n",
    "plt.ylabel('number of tokens')\n",
    "plt.xlabel('length of tokens')\n",
    "plt.title('Distribution of token length')\n",
    "plt.show()"
   ]
  },
  {
   "cell_type": "code",
   "execution_count": 115,
   "metadata": {},
   "outputs": [
    {
     "data": {
      "text/plain": [
       "236"
      ]
     },
     "execution_count": 115,
     "metadata": {},
     "output_type": "execute_result"
    }
   ],
   "source": [
    "max_tokens=np.mean(num_tokens)+2*np.std(num_tokens)\n",
    "max_tokens=int(max_tokens)\n",
    "max_tokens"
   ]
  },
  {
   "cell_type": "code",
   "execution_count": 118,
   "metadata": {},
   "outputs": [
    {
     "data": {
      "text/plain": [
       "0.9565"
      ]
     },
     "execution_count": 118,
     "metadata": {},
     "output_type": "execute_result"
    }
   ],
   "source": [
    "np.sum(num_tokens<max_tokens)/len(num_tokens)"
   ]
  },
  {
   "cell_type": "code",
   "execution_count": 146,
   "metadata": {},
   "outputs": [],
   "source": [
    "def reverse_tokens(tokens):\n",
    "    text=''\n",
    "    for i in tokens:\n",
    "        if i != 0:\n",
    "            text=text+cn_model.index2word[i]\n",
    "        else:\n",
    "            text=text+' '\n",
    "    return text"
   ]
  },
  {
   "cell_type": "code",
   "execution_count": 123,
   "metadata": {},
   "outputs": [
    {
     "data": {
      "text/plain": [
       "'CBD中心周围没什么店铺说5星有点勉强不知道为什么卫生间没有电吹风'"
      ]
     },
     "execution_count": 123,
     "metadata": {},
     "output_type": "execute_result"
    }
   ],
   "source": [
    "reverse=reverse_tokens(train_tokens[2])\n",
    "reverse"
   ]
  },
  {
   "cell_type": "code",
   "execution_count": 124,
   "metadata": {},
   "outputs": [
    {
     "data": {
      "text/plain": [
       "'CBD中心,周围没什么店铺,说5星有点勉强.不知道为什么卫生间没有电吹风'"
      ]
     },
     "execution_count": 124,
     "metadata": {},
     "output_type": "execute_result"
    }
   ],
   "source": [
    "train_texts_orig[2]"
   ]
  },
  {
   "cell_type": "code",
   "execution_count": 125,
   "metadata": {},
   "outputs": [],
   "source": [
    "#只取字典表里使用频率最高的前50000个词的embedding,其它词按‘空格’处理\n",
    "num_words=50000\n",
    "embedding_matrix=np.zeros((num_words,embedding_dim))\n",
    "for i in range(num_words):\n",
    "    embedding_matrix[i,:]=cn_model[cn_model.index2word[i]]\n",
    "embedding_matrix=embedding_matrix.astype('float32')"
   ]
  },
  {
   "cell_type": "code",
   "execution_count": 126,
   "metadata": {},
   "outputs": [
    {
     "data": {
      "text/plain": [
       "300"
      ]
     },
     "execution_count": 126,
     "metadata": {},
     "output_type": "execute_result"
    }
   ],
   "source": [
    "np.sum(cn_model[cn_model.index2word[333]]==embedding_matrix[333])"
   ]
  },
  {
   "cell_type": "code",
   "execution_count": 127,
   "metadata": {},
   "outputs": [
    {
     "data": {
      "text/plain": [
       "(50000, 300)"
      ]
     },
     "execution_count": 127,
     "metadata": {},
     "output_type": "execute_result"
    }
   ],
   "source": [
    "embedding_matrix.shape"
   ]
  },
  {
   "cell_type": "code",
   "execution_count": 132,
   "metadata": {},
   "outputs": [],
   "source": [
    "train_pad=pad_sequences(train_tokens,maxlen=max_tokens,padding='pre',truncating='pre')"
   ]
  },
  {
   "cell_type": "code",
   "execution_count": 141,
   "metadata": {},
   "outputs": [],
   "source": [
    "train_pad[train_pad>=num_words]=0"
   ]
  },
  {
   "cell_type": "code",
   "execution_count": 139,
   "metadata": {},
   "outputs": [
    {
     "data": {
      "text/plain": [
       "83"
      ]
     },
     "execution_count": 139,
     "metadata": {},
     "output_type": "execute_result"
    }
   ],
   "source": [
    "len(train_tokens[33])"
   ]
  },
  {
   "cell_type": "code",
   "execution_count": 140,
   "metadata": {},
   "outputs": [
    {
     "data": {
      "text/plain": [
       "(236,)"
      ]
     },
     "execution_count": 140,
     "metadata": {},
     "output_type": "execute_result"
    }
   ],
   "source": [
    "train_pad[33].shape"
   ]
  },
  {
   "cell_type": "code",
   "execution_count": 142,
   "metadata": {},
   "outputs": [],
   "source": [
    "train_target=np.array(train_target)"
   ]
  },
  {
   "cell_type": "code",
   "execution_count": 143,
   "metadata": {},
   "outputs": [],
   "source": [
    "from sklearn.model_selection import train_test_split"
   ]
  },
  {
   "cell_type": "code",
   "execution_count": 144,
   "metadata": {},
   "outputs": [],
   "source": [
    "X_train,X_test,y_train,y_test=train_test_split(train_pad,train_target,test_size=0.1,random_state=12)"
   ]
  },
  {
   "cell_type": "code",
   "execution_count": 147,
   "metadata": {},
   "outputs": [
    {
     "name": "stdout",
     "output_type": "stream",
     "text": [
      "                                                                                                                                                                                                                        房间很大还有海景阳台走出酒店就是沙滩非常不错唯一遗憾的就是不能刷 不方便\n",
      "class: 1\n"
     ]
    }
   ],
   "source": [
    "print(reverse_tokens(X_train[35]))\n",
    "print('class:',y_train[35])"
   ]
  },
  {
   "cell_type": "code",
   "execution_count": 149,
   "metadata": {},
   "outputs": [],
   "source": [
    "model=Sequential()"
   ]
  },
  {
   "cell_type": "code",
   "execution_count": 150,
   "metadata": {},
   "outputs": [],
   "source": [
    "model.add(Embedding(num_words,embedding_dim,weights=[embedding_matrix],input_length=max_tokens,trainable=False))"
   ]
  },
  {
   "cell_type": "code",
   "execution_count": 151,
   "metadata": {},
   "outputs": [],
   "source": [
    "model.add(Bidirectional(LSTM(units=64,return_sequences=True)))\n",
    "model.add(LSTM(units=16,return_sequences=False))"
   ]
  },
  {
   "cell_type": "code",
   "execution_count": 152,
   "metadata": {},
   "outputs": [],
   "source": [
    "model.add(Dense(1,activation='sigmoid'))\n",
    "optimizer=Adam(lr=1e-3)"
   ]
  },
  {
   "cell_type": "code",
   "execution_count": 153,
   "metadata": {},
   "outputs": [],
   "source": [
    "model.compile(loss='binary_crossentropy',optimizer=optimizer,metrics=['accuracy'])"
   ]
  },
  {
   "cell_type": "code",
   "execution_count": 155,
   "metadata": {},
   "outputs": [
    {
     "name": "stdout",
     "output_type": "stream",
     "text": [
      "Model: \"sequential\"\n",
      "_________________________________________________________________\n",
      "Layer (type)                 Output Shape              Param #   \n",
      "=================================================================\n",
      "embedding (Embedding)        (None, 236, 300)          15000000  \n",
      "_________________________________________________________________\n",
      "bidirectional (Bidirectional (None, 236, 128)          186880    \n",
      "_________________________________________________________________\n",
      "lstm_1 (LSTM)                (None, 16)                9280      \n",
      "_________________________________________________________________\n",
      "dense (Dense)                (None, 1)                 17        \n",
      "=================================================================\n",
      "Total params: 15,196,177\n",
      "Trainable params: 196,177\n",
      "Non-trainable params: 15,000,000\n",
      "_________________________________________________________________\n"
     ]
    }
   ],
   "source": [
    "model.summary()"
   ]
  },
  {
   "cell_type": "code",
   "execution_count": 156,
   "metadata": {},
   "outputs": [],
   "source": [
    "path_checkpoint='sentiment_checkpoint.keras'\n",
    "checkpoint=ModelCheckpoint(filepath=path_checkpoint,monitor='val_loss',verbose=1,save_weights_only=True,save_best_only=True)"
   ]
  },
  {
   "cell_type": "code",
   "execution_count": 157,
   "metadata": {},
   "outputs": [
    {
     "name": "stdout",
     "output_type": "stream",
     "text": [
      "Unable to open file (unable to open file: name = 'sentiment_checkpoint.keras', errno = 2, error message = 'No such file or directory', flags = 0, o_flags = 0)\n"
     ]
    }
   ],
   "source": [
    "try:\n",
    "    model.load_weights(path_checkpoint)\n",
    "except Exception as e:\n",
    "    print(e)"
   ]
  },
  {
   "cell_type": "code",
   "execution_count": 159,
   "metadata": {},
   "outputs": [],
   "source": [
    "earlystopping=EarlyStopping(monitor='val_loss',patience=5,verbose=1)"
   ]
  },
  {
   "cell_type": "code",
   "execution_count": 160,
   "metadata": {},
   "outputs": [],
   "source": [
    "lr_reduction=ReduceLROnPlateau(monitor='val_loss',factor=0.1,min_lr=1e-8,patience=0,verbose=1)"
   ]
  },
  {
   "cell_type": "code",
   "execution_count": 161,
   "metadata": {},
   "outputs": [],
   "source": [
    "callbacks=[earlystopping,checkpoint,lr_reduction]"
   ]
  },
  {
   "cell_type": "code",
   "execution_count": 165,
   "metadata": {},
   "outputs": [
    {
     "name": "stdout",
     "output_type": "stream",
     "text": [
      "Train on 3240 samples, validate on 360 samples\n",
      "Epoch 1/100\n",
      "3200/3240 [============================>.] - ETA: 0s - loss: 0.2992 - accuracy: 0.8806\n",
      "Epoch 00001: val_loss improved from 0.33192 to 0.33192, saving model to sentiment_checkpoint.keras\n",
      "3240/3240 [==============================] - 36s 11ms/sample - loss: 0.2994 - accuracy: 0.8806 - val_loss: 0.3319 - val_accuracy: 0.8583\n",
      "Epoch 2/100\n",
      "3200/3240 [============================>.] - ETA: 0s - loss: 0.2977 - accuracy: 0.8813\n",
      "Epoch 00002: val_loss improved from 0.33192 to 0.33192, saving model to sentiment_checkpoint.keras\n",
      "3240/3240 [==============================] - 36s 11ms/sample - loss: 0.2994 - accuracy: 0.8806 - val_loss: 0.3319 - val_accuracy: 0.8583\n",
      "Epoch 3/100\n",
      "3200/3240 [============================>.] - ETA: 0s - loss: 0.2994 - accuracy: 0.8803\n",
      "Epoch 00003: val_loss improved from 0.33192 to 0.33192, saving model to sentiment_checkpoint.keras\n",
      "3240/3240 [==============================] - 36s 11ms/sample - loss: 0.2994 - accuracy: 0.8806 - val_loss: 0.3319 - val_accuracy: 0.8583\n",
      "Epoch 4/100\n",
      "3200/3240 [============================>.] - ETA: 0s - loss: 0.2993 - accuracy: 0.8803\n",
      "Epoch 00004: val_loss improved from 0.33192 to 0.33192, saving model to sentiment_checkpoint.keras\n",
      "3240/3240 [==============================] - 35s 11ms/sample - loss: 0.2994 - accuracy: 0.8806 - val_loss: 0.3319 - val_accuracy: 0.8583\n",
      "Epoch 5/100\n",
      "3200/3240 [============================>.] - ETA: 0s - loss: 0.2977 - accuracy: 0.8813\n",
      "Epoch 00005: val_loss improved from 0.33192 to 0.33192, saving model to sentiment_checkpoint.keras\n",
      "3240/3240 [==============================] - 35s 11ms/sample - loss: 0.2994 - accuracy: 0.8806 - val_loss: 0.3319 - val_accuracy: 0.8583\n",
      "Epoch 6/100\n",
      "3200/3240 [============================>.] - ETA: 0s - loss: 0.2993 - accuracy: 0.8806\n",
      "Epoch 00006: val_loss improved from 0.33192 to 0.33192, saving model to sentiment_checkpoint.keras\n",
      "3240/3240 [==============================] - 35s 11ms/sample - loss: 0.2994 - accuracy: 0.8806 - val_loss: 0.3319 - val_accuracy: 0.8583\n",
      "Epoch 7/100\n",
      "3200/3240 [============================>.] - ETA: 0s - loss: 0.2996 - accuracy: 0.8803\n",
      "Epoch 00007: val_loss did not improve from 0.33192\n",
      "3240/3240 [==============================] - 35s 11ms/sample - loss: 0.2994 - accuracy: 0.8806 - val_loss: 0.3319 - val_accuracy: 0.8583\n",
      "Epoch 8/100\n",
      "3200/3240 [============================>.] - ETA: 0s - loss: 0.2988 - accuracy: 0.8806\n",
      "Epoch 00008: val_loss improved from 0.33192 to 0.33191, saving model to sentiment_checkpoint.keras\n",
      "3240/3240 [==============================] - 35s 11ms/sample - loss: 0.2994 - accuracy: 0.8806 - val_loss: 0.3319 - val_accuracy: 0.8583\n",
      "Epoch 9/100\n",
      "3200/3240 [============================>.] - ETA: 0s - loss: 0.3003 - accuracy: 0.8797\n",
      "Epoch 00009: val_loss improved from 0.33191 to 0.33191, saving model to sentiment_checkpoint.keras\n",
      "3240/3240 [==============================] - 35s 11ms/sample - loss: 0.2994 - accuracy: 0.8806 - val_loss: 0.3319 - val_accuracy: 0.8583\n",
      "Epoch 10/100\n",
      "3200/3240 [============================>.] - ETA: 0s - loss: 0.2997 - accuracy: 0.8806\n",
      "Epoch 00010: val_loss improved from 0.33191 to 0.33191, saving model to sentiment_checkpoint.keras\n",
      "3240/3240 [==============================] - 36s 11ms/sample - loss: 0.2994 - accuracy: 0.8806 - val_loss: 0.3319 - val_accuracy: 0.8583\n",
      "Epoch 11/100\n",
      "3200/3240 [============================>.] - ETA: 0s - loss: 0.2989 - accuracy: 0.8809\n",
      "Epoch 00011: val_loss improved from 0.33191 to 0.33191, saving model to sentiment_checkpoint.keras\n",
      "3240/3240 [==============================] - 36s 11ms/sample - loss: 0.2994 - accuracy: 0.8806 - val_loss: 0.3319 - val_accuracy: 0.8583\n",
      "Epoch 12/100\n",
      "3200/3240 [============================>.] - ETA: 0s - loss: 0.3001 - accuracy: 0.8803\n",
      "Epoch 00012: val_loss improved from 0.33191 to 0.33191, saving model to sentiment_checkpoint.keras\n",
      "3240/3240 [==============================] - 36s 11ms/sample - loss: 0.2994 - accuracy: 0.8806 - val_loss: 0.3319 - val_accuracy: 0.8583\n",
      "Epoch 13/100\n",
      "3200/3240 [============================>.] - ETA: 0s - loss: 0.2999 - accuracy: 0.8800\n",
      "Epoch 00013: val_loss improved from 0.33191 to 0.33191, saving model to sentiment_checkpoint.keras\n",
      "3240/3240 [==============================] - 37s 11ms/sample - loss: 0.2994 - accuracy: 0.8806 - val_loss: 0.3319 - val_accuracy: 0.8583\n",
      "Epoch 14/100\n",
      "3200/3240 [============================>.] - ETA: 0s - loss: 0.3007 - accuracy: 0.8794\n",
      "Epoch 00014: val_loss improved from 0.33191 to 0.33191, saving model to sentiment_checkpoint.keras\n",
      "3240/3240 [==============================] - 36s 11ms/sample - loss: 0.2994 - accuracy: 0.8806 - val_loss: 0.3319 - val_accuracy: 0.8583\n",
      "Epoch 15/100\n",
      "3200/3240 [============================>.] - ETA: 0s - loss: 0.2980 - accuracy: 0.8809\n",
      "Epoch 00015: val_loss improved from 0.33191 to 0.33190, saving model to sentiment_checkpoint.keras\n",
      "3240/3240 [==============================] - 35s 11ms/sample - loss: 0.2994 - accuracy: 0.8806 - val_loss: 0.3319 - val_accuracy: 0.8583\n",
      "Epoch 16/100\n",
      "3200/3240 [============================>.] - ETA: 0s - loss: 0.2979 - accuracy: 0.8816\n",
      "Epoch 00016: val_loss improved from 0.33190 to 0.33190, saving model to sentiment_checkpoint.keras\n",
      "3240/3240 [==============================] - 35s 11ms/sample - loss: 0.2994 - accuracy: 0.8806 - val_loss: 0.3319 - val_accuracy: 0.8583\n",
      "Epoch 17/100\n",
      "3200/3240 [============================>.] - ETA: 0s - loss: 0.2986 - accuracy: 0.8809\n",
      "Epoch 00017: val_loss improved from 0.33190 to 0.33190, saving model to sentiment_checkpoint.keras\n",
      "3240/3240 [==============================] - 36s 11ms/sample - loss: 0.2994 - accuracy: 0.8806 - val_loss: 0.3319 - val_accuracy: 0.8583\n",
      "Epoch 18/100\n",
      "3200/3240 [============================>.] - ETA: 0s - loss: 0.2990 - accuracy: 0.8809\n",
      "Epoch 00018: val_loss improved from 0.33190 to 0.33190, saving model to sentiment_checkpoint.keras\n",
      "3240/3240 [==============================] - 36s 11ms/sample - loss: 0.2994 - accuracy: 0.8806 - val_loss: 0.3319 - val_accuracy: 0.8583\n",
      "Epoch 19/100\n",
      "3200/3240 [============================>.] - ETA: 0s - loss: 0.2985 - accuracy: 0.8809\n",
      "Epoch 00019: val_loss improved from 0.33190 to 0.33190, saving model to sentiment_checkpoint.keras\n",
      "3240/3240 [==============================] - 35s 11ms/sample - loss: 0.2994 - accuracy: 0.8806 - val_loss: 0.3319 - val_accuracy: 0.8611\n",
      "Epoch 20/100\n",
      "3200/3240 [============================>.] - ETA: 0s - loss: 0.2982 - accuracy: 0.8816\n",
      "Epoch 00020: val_loss improved from 0.33190 to 0.33190, saving model to sentiment_checkpoint.keras\n",
      "3240/3240 [==============================] - 37s 11ms/sample - loss: 0.2994 - accuracy: 0.8806 - val_loss: 0.3319 - val_accuracy: 0.8611\n",
      "Epoch 21/100\n",
      "3200/3240 [============================>.] - ETA: 0s - loss: 0.2996 - accuracy: 0.8803\n",
      "Epoch 00021: val_loss improved from 0.33190 to 0.33190, saving model to sentiment_checkpoint.keras\n",
      "3240/3240 [==============================] - 36s 11ms/sample - loss: 0.2994 - accuracy: 0.8806 - val_loss: 0.3319 - val_accuracy: 0.8611\n",
      "Epoch 22/100\n",
      "3200/3240 [============================>.] - ETA: 0s - loss: 0.2994 - accuracy: 0.8809\n",
      "Epoch 00022: val_loss improved from 0.33190 to 0.33190, saving model to sentiment_checkpoint.keras\n",
      "3240/3240 [==============================] - 36s 11ms/sample - loss: 0.2994 - accuracy: 0.8806 - val_loss: 0.3319 - val_accuracy: 0.8611\n",
      "Epoch 23/100\n",
      "3200/3240 [============================>.] - ETA: 0s - loss: 0.2985 - accuracy: 0.8813\n",
      "Epoch 00023: val_loss improved from 0.33190 to 0.33189, saving model to sentiment_checkpoint.keras\n",
      "3240/3240 [==============================] - 35s 11ms/sample - loss: 0.2994 - accuracy: 0.8806 - val_loss: 0.3319 - val_accuracy: 0.8611\n",
      "Epoch 24/100\n",
      "3200/3240 [============================>.] - ETA: 0s - loss: 0.2987 - accuracy: 0.8813\n",
      "Epoch 00024: val_loss improved from 0.33189 to 0.33189, saving model to sentiment_checkpoint.keras\n",
      "3240/3240 [==============================] - 37s 11ms/sample - loss: 0.2994 - accuracy: 0.8806 - val_loss: 0.3319 - val_accuracy: 0.8611\n",
      "Epoch 25/100\n",
      "3200/3240 [============================>.] - ETA: 0s - loss: 0.2974 - accuracy: 0.8822\n",
      "Epoch 00025: val_loss did not improve from 0.33189\n",
      "3240/3240 [==============================] - 37s 11ms/sample - loss: 0.2994 - accuracy: 0.8806 - val_loss: 0.3319 - val_accuracy: 0.8611\n"
     ]
    },
    {
     "name": "stdout",
     "output_type": "stream",
     "text": [
      "Epoch 26/100\n",
      "3200/3240 [============================>.] - ETA: 0s - loss: 0.3003 - accuracy: 0.8803\n",
      "Epoch 00026: val_loss improved from 0.33189 to 0.33189, saving model to sentiment_checkpoint.keras\n",
      "3240/3240 [==============================] - 37s 11ms/sample - loss: 0.2994 - accuracy: 0.8806 - val_loss: 0.3319 - val_accuracy: 0.8611\n",
      "Epoch 27/100\n",
      "3200/3240 [============================>.] - ETA: 0s - loss: 0.3005 - accuracy: 0.8803\n",
      "Epoch 00027: val_loss improved from 0.33189 to 0.33189, saving model to sentiment_checkpoint.keras\n",
      "3240/3240 [==============================] - 37s 11ms/sample - loss: 0.2994 - accuracy: 0.8806 - val_loss: 0.3319 - val_accuracy: 0.8611\n",
      "Epoch 28/100\n",
      "3200/3240 [============================>.] - ETA: 0s - loss: 0.2977 - accuracy: 0.8819\n",
      "Epoch 00028: val_loss improved from 0.33189 to 0.33189, saving model to sentiment_checkpoint.keras\n",
      "3240/3240 [==============================] - 36s 11ms/sample - loss: 0.2994 - accuracy: 0.8806 - val_loss: 0.3319 - val_accuracy: 0.8611\n",
      "Epoch 29/100\n",
      "3200/3240 [============================>.] - ETA: 0s - loss: 0.3006 - accuracy: 0.8803\n",
      "Epoch 00029: val_loss improved from 0.33189 to 0.33189, saving model to sentiment_checkpoint.keras\n",
      "3240/3240 [==============================] - 37s 12ms/sample - loss: 0.2994 - accuracy: 0.8806 - val_loss: 0.3319 - val_accuracy: 0.8611\n",
      "Epoch 30/100\n",
      "3200/3240 [============================>.] - ETA: 0s - loss: 0.2996 - accuracy: 0.8803\n",
      "Epoch 00030: val_loss improved from 0.33189 to 0.33188, saving model to sentiment_checkpoint.keras\n",
      "3240/3240 [==============================] - 36s 11ms/sample - loss: 0.2994 - accuracy: 0.8806 - val_loss: 0.3319 - val_accuracy: 0.8611\n",
      "Epoch 31/100\n",
      "3200/3240 [============================>.] - ETA: 0s - loss: 0.2996 - accuracy: 0.8806\n",
      "Epoch 00031: val_loss improved from 0.33188 to 0.33188, saving model to sentiment_checkpoint.keras\n",
      "3240/3240 [==============================] - 36s 11ms/sample - loss: 0.2994 - accuracy: 0.8806 - val_loss: 0.3319 - val_accuracy: 0.8611\n",
      "Epoch 32/100\n",
      "3200/3240 [============================>.] - ETA: 0s - loss: 0.2977 - accuracy: 0.8813\n",
      "Epoch 00032: val_loss improved from 0.33188 to 0.33188, saving model to sentiment_checkpoint.keras\n",
      "3240/3240 [==============================] - 36s 11ms/sample - loss: 0.2994 - accuracy: 0.8806 - val_loss: 0.3319 - val_accuracy: 0.8611\n",
      "Epoch 33/100\n",
      "3200/3240 [============================>.] - ETA: 0s - loss: 0.2998 - accuracy: 0.8800\n",
      "Epoch 00033: val_loss improved from 0.33188 to 0.33188, saving model to sentiment_checkpoint.keras\n",
      "3240/3240 [==============================] - 36s 11ms/sample - loss: 0.2994 - accuracy: 0.8806 - val_loss: 0.3319 - val_accuracy: 0.8611\n",
      "Epoch 34/100\n",
      "3200/3240 [============================>.] - ETA: 0s - loss: 0.3009 - accuracy: 0.8797\n",
      "Epoch 00034: val_loss improved from 0.33188 to 0.33188, saving model to sentiment_checkpoint.keras\n",
      "3240/3240 [==============================] - 36s 11ms/sample - loss: 0.2994 - accuracy: 0.8806 - val_loss: 0.3319 - val_accuracy: 0.8611\n",
      "Epoch 35/100\n",
      "3200/3240 [============================>.] - ETA: 0s - loss: 0.2992 - accuracy: 0.8806\n",
      "Epoch 00035: val_loss improved from 0.33188 to 0.33188, saving model to sentiment_checkpoint.keras\n",
      "3240/3240 [==============================] - 36s 11ms/sample - loss: 0.2994 - accuracy: 0.8806 - val_loss: 0.3319 - val_accuracy: 0.8611\n",
      "Epoch 36/100\n",
      "3200/3240 [============================>.] - ETA: 0s - loss: 0.2999 - accuracy: 0.8800\n",
      "Epoch 00036: val_loss improved from 0.33188 to 0.33187, saving model to sentiment_checkpoint.keras\n",
      "3240/3240 [==============================] - 36s 11ms/sample - loss: 0.2994 - accuracy: 0.8806 - val_loss: 0.3319 - val_accuracy: 0.8611\n",
      "Epoch 37/100\n",
      "3200/3240 [============================>.] - ETA: 0s - loss: 0.3005 - accuracy: 0.8800\n",
      "Epoch 00037: val_loss improved from 0.33187 to 0.33187, saving model to sentiment_checkpoint.keras\n",
      "3240/3240 [==============================] - 36s 11ms/sample - loss: 0.2994 - accuracy: 0.8806 - val_loss: 0.3319 - val_accuracy: 0.8611\n",
      "Epoch 38/100\n",
      "3200/3240 [============================>.] - ETA: 0s - loss: 0.3005 - accuracy: 0.8797\n",
      "Epoch 00038: val_loss improved from 0.33187 to 0.33187, saving model to sentiment_checkpoint.keras\n",
      "3240/3240 [==============================] - 35s 11ms/sample - loss: 0.2994 - accuracy: 0.8806 - val_loss: 0.3319 - val_accuracy: 0.8611\n",
      "Epoch 39/100\n",
      "3200/3240 [============================>.] - ETA: 0s - loss: 0.3005 - accuracy: 0.8806\n",
      "Epoch 00039: val_loss improved from 0.33187 to 0.33187, saving model to sentiment_checkpoint.keras\n",
      "3240/3240 [==============================] - 36s 11ms/sample - loss: 0.2994 - accuracy: 0.8806 - val_loss: 0.3319 - val_accuracy: 0.8611\n",
      "Epoch 40/100\n",
      "3200/3240 [============================>.] - ETA: 0s - loss: 0.2978 - accuracy: 0.8819\n",
      "Epoch 00040: val_loss improved from 0.33187 to 0.33187, saving model to sentiment_checkpoint.keras\n",
      "3240/3240 [==============================] - 37s 11ms/sample - loss: 0.2994 - accuracy: 0.8806 - val_loss: 0.3319 - val_accuracy: 0.8611\n",
      "Epoch 41/100\n",
      "3200/3240 [============================>.] - ETA: 0s - loss: 0.3002 - accuracy: 0.8803\n",
      "Epoch 00041: val_loss improved from 0.33187 to 0.33187, saving model to sentiment_checkpoint.keras\n",
      "3240/3240 [==============================] - 36s 11ms/sample - loss: 0.2994 - accuracy: 0.8806 - val_loss: 0.3319 - val_accuracy: 0.8611\n",
      "Epoch 42/100\n",
      "3200/3240 [============================>.] - ETA: 0s - loss: 0.2988 - accuracy: 0.8813\n",
      "Epoch 00042: val_loss improved from 0.33187 to 0.33186, saving model to sentiment_checkpoint.keras\n",
      "3240/3240 [==============================] - 37s 11ms/sample - loss: 0.2994 - accuracy: 0.8806 - val_loss: 0.3319 - val_accuracy: 0.8611\n",
      "Epoch 43/100\n",
      "3200/3240 [============================>.] - ETA: 0s - loss: 0.2990 - accuracy: 0.8809\n",
      "Epoch 00043: val_loss improved from 0.33186 to 0.33186, saving model to sentiment_checkpoint.keras\n",
      "3240/3240 [==============================] - 36s 11ms/sample - loss: 0.2994 - accuracy: 0.8806 - val_loss: 0.3319 - val_accuracy: 0.8611\n",
      "Epoch 44/100\n",
      "3200/3240 [============================>.] - ETA: 0s - loss: 0.3006 - accuracy: 0.8797\n",
      "Epoch 00044: val_loss improved from 0.33186 to 0.33186, saving model to sentiment_checkpoint.keras\n",
      "3240/3240 [==============================] - 36s 11ms/sample - loss: 0.2994 - accuracy: 0.8806 - val_loss: 0.3319 - val_accuracy: 0.8611\n",
      "Epoch 45/100\n",
      "3200/3240 [============================>.] - ETA: 0s - loss: 0.3000 - accuracy: 0.8803\n",
      "Epoch 00045: val_loss improved from 0.33186 to 0.33186, saving model to sentiment_checkpoint.keras\n",
      "3240/3240 [==============================] - 37s 11ms/sample - loss: 0.2993 - accuracy: 0.8806 - val_loss: 0.3319 - val_accuracy: 0.8611\n",
      "Epoch 46/100\n",
      "3200/3240 [============================>.] - ETA: 0s - loss: 0.3001 - accuracy: 0.8809\n",
      "Epoch 00046: val_loss improved from 0.33186 to 0.33186, saving model to sentiment_checkpoint.keras\n",
      "3240/3240 [==============================] - 37s 11ms/sample - loss: 0.2993 - accuracy: 0.8806 - val_loss: 0.3319 - val_accuracy: 0.8611\n",
      "Epoch 47/100\n",
      "3200/3240 [============================>.] - ETA: 0s - loss: 0.3014 - accuracy: 0.8794\n",
      "Epoch 00047: val_loss improved from 0.33186 to 0.33186, saving model to sentiment_checkpoint.keras\n",
      "3240/3240 [==============================] - 36s 11ms/sample - loss: 0.2993 - accuracy: 0.8806 - val_loss: 0.3319 - val_accuracy: 0.8611\n",
      "Epoch 48/100\n",
      "3200/3240 [============================>.] - ETA: 0s - loss: 0.2991 - accuracy: 0.8806\n",
      "Epoch 00048: val_loss improved from 0.33186 to 0.33186, saving model to sentiment_checkpoint.keras\n",
      "3240/3240 [==============================] - 36s 11ms/sample - loss: 0.2993 - accuracy: 0.8806 - val_loss: 0.3319 - val_accuracy: 0.8611\n",
      "Epoch 49/100\n",
      "3200/3240 [============================>.] - ETA: 0s - loss: 0.2984 - accuracy: 0.8806\n",
      "Epoch 00049: val_loss improved from 0.33186 to 0.33185, saving model to sentiment_checkpoint.keras\n",
      "3240/3240 [==============================] - 37s 12ms/sample - loss: 0.2993 - accuracy: 0.8806 - val_loss: 0.3319 - val_accuracy: 0.8611\n",
      "Epoch 50/100\n",
      "3200/3240 [============================>.] - ETA: 0s - loss: 0.3011 - accuracy: 0.8797\n",
      "Epoch 00050: val_loss improved from 0.33185 to 0.33185, saving model to sentiment_checkpoint.keras\n"
     ]
    },
    {
     "name": "stdout",
     "output_type": "stream",
     "text": [
      "3240/3240 [==============================] - 36s 11ms/sample - loss: 0.2993 - accuracy: 0.8806 - val_loss: 0.3319 - val_accuracy: 0.8611\n",
      "Epoch 51/100\n",
      "3200/3240 [============================>.] - ETA: 0s - loss: 0.3005 - accuracy: 0.8797\n",
      "Epoch 00051: val_loss improved from 0.33185 to 0.33185, saving model to sentiment_checkpoint.keras\n",
      "3240/3240 [==============================] - 36s 11ms/sample - loss: 0.2993 - accuracy: 0.8806 - val_loss: 0.3319 - val_accuracy: 0.8611\n",
      "Epoch 52/100\n",
      "3200/3240 [============================>.] - ETA: 0s - loss: 0.2977 - accuracy: 0.8816\n",
      "Epoch 00052: val_loss improved from 0.33185 to 0.33185, saving model to sentiment_checkpoint.keras\n",
      "3240/3240 [==============================] - 35s 11ms/sample - loss: 0.2993 - accuracy: 0.8806 - val_loss: 0.3318 - val_accuracy: 0.8611\n",
      "Epoch 53/100\n",
      "3200/3240 [============================>.] - ETA: 0s - loss: 0.2967 - accuracy: 0.8822\n",
      "Epoch 00053: val_loss improved from 0.33185 to 0.33185, saving model to sentiment_checkpoint.keras\n",
      "3240/3240 [==============================] - 36s 11ms/sample - loss: 0.2993 - accuracy: 0.8806 - val_loss: 0.3318 - val_accuracy: 0.8611\n",
      "Epoch 54/100\n",
      "3200/3240 [============================>.] - ETA: 0s - loss: 0.3001 - accuracy: 0.8809\n",
      "Epoch 00054: val_loss improved from 0.33185 to 0.33185, saving model to sentiment_checkpoint.keras\n",
      "3240/3240 [==============================] - 36s 11ms/sample - loss: 0.2993 - accuracy: 0.8806 - val_loss: 0.3318 - val_accuracy: 0.8611\n",
      "Epoch 55/100\n",
      "3200/3240 [============================>.] - ETA: 0s - loss: 0.3002 - accuracy: 0.8803\n",
      "Epoch 00055: val_loss improved from 0.33185 to 0.33184, saving model to sentiment_checkpoint.keras\n",
      "3240/3240 [==============================] - 37s 11ms/sample - loss: 0.2993 - accuracy: 0.8806 - val_loss: 0.3318 - val_accuracy: 0.8611\n",
      "Epoch 56/100\n",
      "3200/3240 [============================>.] - ETA: 0s - loss: 0.3000 - accuracy: 0.8800\n",
      "Epoch 00056: val_loss improved from 0.33184 to 0.33184, saving model to sentiment_checkpoint.keras\n",
      "3240/3240 [==============================] - 36s 11ms/sample - loss: 0.2993 - accuracy: 0.8806 - val_loss: 0.3318 - val_accuracy: 0.8611\n",
      "Epoch 57/100\n",
      "3200/3240 [============================>.] - ETA: 0s - loss: 0.2997 - accuracy: 0.8806\n",
      "Epoch 00057: val_loss improved from 0.33184 to 0.33184, saving model to sentiment_checkpoint.keras\n",
      "3240/3240 [==============================] - 36s 11ms/sample - loss: 0.2993 - accuracy: 0.8806 - val_loss: 0.3318 - val_accuracy: 0.8611\n",
      "Epoch 58/100\n",
      "3200/3240 [============================>.] - ETA: 0s - loss: 0.2983 - accuracy: 0.8813\n",
      "Epoch 00058: val_loss improved from 0.33184 to 0.33184, saving model to sentiment_checkpoint.keras\n",
      "3240/3240 [==============================] - 37s 11ms/sample - loss: 0.2993 - accuracy: 0.8806 - val_loss: 0.3318 - val_accuracy: 0.8611\n",
      "Epoch 59/100\n",
      "3200/3240 [============================>.] - ETA: 0s - loss: 0.3000 - accuracy: 0.8800\n",
      "Epoch 00059: val_loss improved from 0.33184 to 0.33184, saving model to sentiment_checkpoint.keras\n",
      "3240/3240 [==============================] - 36s 11ms/sample - loss: 0.2993 - accuracy: 0.8806 - val_loss: 0.3318 - val_accuracy: 0.8611\n",
      "Epoch 60/100\n",
      "3200/3240 [============================>.] - ETA: 0s - loss: 0.2983 - accuracy: 0.8809\n",
      "Epoch 00060: val_loss improved from 0.33184 to 0.33184, saving model to sentiment_checkpoint.keras\n",
      "3240/3240 [==============================] - 37s 11ms/sample - loss: 0.2993 - accuracy: 0.8806 - val_loss: 0.3318 - val_accuracy: 0.8611\n",
      "Epoch 61/100\n",
      "3200/3240 [============================>.] - ETA: 0s - loss: 0.3001 - accuracy: 0.8800\n",
      "Epoch 00061: val_loss improved from 0.33184 to 0.33184, saving model to sentiment_checkpoint.keras\n",
      "3240/3240 [==============================] - 36s 11ms/sample - loss: 0.2993 - accuracy: 0.8806 - val_loss: 0.3318 - val_accuracy: 0.8611\n",
      "Epoch 62/100\n",
      "3200/3240 [============================>.] - ETA: 0s - loss: 0.3003 - accuracy: 0.8803\n",
      "Epoch 00062: val_loss improved from 0.33184 to 0.33183, saving model to sentiment_checkpoint.keras\n",
      "3240/3240 [==============================] - 37s 11ms/sample - loss: 0.2993 - accuracy: 0.8806 - val_loss: 0.3318 - val_accuracy: 0.8611\n",
      "Epoch 63/100\n",
      "3200/3240 [============================>.] - ETA: 0s - loss: 0.2974 - accuracy: 0.8816\n",
      "Epoch 00063: val_loss improved from 0.33183 to 0.33183, saving model to sentiment_checkpoint.keras\n",
      "3240/3240 [==============================] - 37s 12ms/sample - loss: 0.2993 - accuracy: 0.8806 - val_loss: 0.3318 - val_accuracy: 0.8611\n",
      "Epoch 64/100\n",
      "3200/3240 [============================>.] - ETA: 0s - loss: 0.2990 - accuracy: 0.8806\n",
      "Epoch 00064: val_loss improved from 0.33183 to 0.33183, saving model to sentiment_checkpoint.keras\n",
      "3240/3240 [==============================] - 37s 11ms/sample - loss: 0.2993 - accuracy: 0.8806 - val_loss: 0.3318 - val_accuracy: 0.8611\n",
      "Epoch 65/100\n",
      "3200/3240 [============================>.] - ETA: 0s - loss: 0.3002 - accuracy: 0.8800\n",
      "Epoch 00065: val_loss improved from 0.33183 to 0.33183, saving model to sentiment_checkpoint.keras\n",
      "3240/3240 [==============================] - 37s 11ms/sample - loss: 0.2993 - accuracy: 0.8806 - val_loss: 0.3318 - val_accuracy: 0.8611\n",
      "Epoch 66/100\n",
      "3200/3240 [============================>.] - ETA: 0s - loss: 0.2995 - accuracy: 0.8803\n",
      "Epoch 00066: val_loss improved from 0.33183 to 0.33183, saving model to sentiment_checkpoint.keras\n",
      "3240/3240 [==============================] - 36s 11ms/sample - loss: 0.2993 - accuracy: 0.8806 - val_loss: 0.3318 - val_accuracy: 0.8611\n",
      "Epoch 67/100\n",
      "3200/3240 [============================>.] - ETA: 0s - loss: 0.3009 - accuracy: 0.8797\n",
      "Epoch 00067: val_loss improved from 0.33183 to 0.33183, saving model to sentiment_checkpoint.keras\n",
      "3240/3240 [==============================] - 36s 11ms/sample - loss: 0.2993 - accuracy: 0.8806 - val_loss: 0.3318 - val_accuracy: 0.8611\n",
      "Epoch 68/100\n",
      "3200/3240 [============================>.] - ETA: 0s - loss: 0.2985 - accuracy: 0.8806\n",
      "Epoch 00068: val_loss improved from 0.33183 to 0.33183, saving model to sentiment_checkpoint.keras\n",
      "3240/3240 [==============================] - 36s 11ms/sample - loss: 0.2993 - accuracy: 0.8806 - val_loss: 0.3318 - val_accuracy: 0.8611\n",
      "Epoch 69/100\n",
      "3200/3240 [============================>.] - ETA: 0s - loss: 0.2994 - accuracy: 0.8800\n",
      "Epoch 00069: val_loss improved from 0.33183 to 0.33183, saving model to sentiment_checkpoint.keras\n",
      "3240/3240 [==============================] - 38s 12ms/sample - loss: 0.2993 - accuracy: 0.8806 - val_loss: 0.3318 - val_accuracy: 0.8611\n",
      "Epoch 70/100\n",
      "3200/3240 [============================>.] - ETA: 0s - loss: 0.3010 - accuracy: 0.8794\n",
      "Epoch 00070: val_loss improved from 0.33183 to 0.33182, saving model to sentiment_checkpoint.keras\n",
      "3240/3240 [==============================] - 37s 12ms/sample - loss: 0.2993 - accuracy: 0.8806 - val_loss: 0.3318 - val_accuracy: 0.8611\n",
      "Epoch 71/100\n",
      "3200/3240 [============================>.] - ETA: 0s - loss: 0.3000 - accuracy: 0.8803\n",
      "Epoch 00071: val_loss improved from 0.33182 to 0.33182, saving model to sentiment_checkpoint.keras\n",
      "3240/3240 [==============================] - 37s 11ms/sample - loss: 0.2993 - accuracy: 0.8806 - val_loss: 0.3318 - val_accuracy: 0.8611\n",
      "Epoch 72/100\n",
      "3200/3240 [============================>.] - ETA: 0s - loss: 0.3004 - accuracy: 0.8800\n",
      "Epoch 00072: val_loss improved from 0.33182 to 0.33182, saving model to sentiment_checkpoint.keras\n",
      "3240/3240 [==============================] - 37s 11ms/sample - loss: 0.2993 - accuracy: 0.8806 - val_loss: 0.3318 - val_accuracy: 0.8611\n",
      "Epoch 73/100\n",
      "3200/3240 [============================>.] - ETA: 0s - loss: 0.2994 - accuracy: 0.8803\n",
      "Epoch 00073: val_loss improved from 0.33182 to 0.33182, saving model to sentiment_checkpoint.keras\n",
      "3240/3240 [==============================] - 37s 11ms/sample - loss: 0.2993 - accuracy: 0.8806 - val_loss: 0.3318 - val_accuracy: 0.8611\n",
      "Epoch 74/100\n",
      "3200/3240 [============================>.] - ETA: 0s - loss: 0.2993 - accuracy: 0.8806\n",
      "Epoch 00074: val_loss improved from 0.33182 to 0.33182, saving model to sentiment_checkpoint.keras\n",
      "3240/3240 [==============================] - 38s 12ms/sample - loss: 0.2993 - accuracy: 0.8806 - val_loss: 0.3318 - val_accuracy: 0.8611\n"
     ]
    },
    {
     "name": "stdout",
     "output_type": "stream",
     "text": [
      "Epoch 75/100\n",
      "3200/3240 [============================>.] - ETA: 0s - loss: 0.2987 - accuracy: 0.8809\n",
      "Epoch 00075: val_loss improved from 0.33182 to 0.33182, saving model to sentiment_checkpoint.keras\n",
      "3240/3240 [==============================] - 38s 12ms/sample - loss: 0.2993 - accuracy: 0.8806 - val_loss: 0.3318 - val_accuracy: 0.8611\n",
      "Epoch 76/100\n",
      "3200/3240 [============================>.] - ETA: 0s - loss: 0.3004 - accuracy: 0.8803\n",
      "Epoch 00076: val_loss improved from 0.33182 to 0.33181, saving model to sentiment_checkpoint.keras\n",
      "3240/3240 [==============================] - 37s 12ms/sample - loss: 0.2993 - accuracy: 0.8806 - val_loss: 0.3318 - val_accuracy: 0.8611\n",
      "Epoch 77/100\n",
      "3200/3240 [============================>.] - ETA: 0s - loss: 0.2988 - accuracy: 0.8809\n",
      "Epoch 00077: val_loss improved from 0.33181 to 0.33181, saving model to sentiment_checkpoint.keras\n",
      "3240/3240 [==============================] - 37s 12ms/sample - loss: 0.2993 - accuracy: 0.8806 - val_loss: 0.3318 - val_accuracy: 0.8611\n",
      "Epoch 78/100\n",
      "3200/3240 [============================>.] - ETA: 0s - loss: 0.2979 - accuracy: 0.8819\n",
      "Epoch 00078: val_loss improved from 0.33181 to 0.33181, saving model to sentiment_checkpoint.keras\n",
      "3240/3240 [==============================] - 38s 12ms/sample - loss: 0.2993 - accuracy: 0.8806 - val_loss: 0.3318 - val_accuracy: 0.8611\n",
      "Epoch 79/100\n",
      "3200/3240 [============================>.] - ETA: 0s - loss: 0.3008 - accuracy: 0.8797\n",
      "Epoch 00079: val_loss improved from 0.33181 to 0.33181, saving model to sentiment_checkpoint.keras\n",
      "3240/3240 [==============================] - 37s 11ms/sample - loss: 0.2993 - accuracy: 0.8806 - val_loss: 0.3318 - val_accuracy: 0.8611\n",
      "Epoch 80/100\n",
      "3200/3240 [============================>.] - ETA: 0s - loss: 0.2983 - accuracy: 0.8813\n",
      "Epoch 00080: val_loss improved from 0.33181 to 0.33181, saving model to sentiment_checkpoint.keras\n",
      "3240/3240 [==============================] - 38s 12ms/sample - loss: 0.2993 - accuracy: 0.8806 - val_loss: 0.3318 - val_accuracy: 0.8611\n",
      "Epoch 81/100\n",
      "3200/3240 [============================>.] - ETA: 0s - loss: 0.2999 - accuracy: 0.8797\n",
      "Epoch 00081: val_loss improved from 0.33181 to 0.33181, saving model to sentiment_checkpoint.keras\n",
      "3240/3240 [==============================] - 38s 12ms/sample - loss: 0.2993 - accuracy: 0.8806 - val_loss: 0.3318 - val_accuracy: 0.8611\n",
      "Epoch 82/100\n",
      "3200/3240 [============================>.] - ETA: 0s - loss: 0.2990 - accuracy: 0.8806\n",
      "Epoch 00082: val_loss improved from 0.33181 to 0.33181, saving model to sentiment_checkpoint.keras\n",
      "3240/3240 [==============================] - 38s 12ms/sample - loss: 0.2993 - accuracy: 0.8806 - val_loss: 0.3318 - val_accuracy: 0.8611\n",
      "Epoch 83/100\n",
      "3200/3240 [============================>.] - ETA: 0s - loss: 0.2988 - accuracy: 0.8809\n",
      "Epoch 00083: val_loss improved from 0.33181 to 0.33181, saving model to sentiment_checkpoint.keras\n",
      "3240/3240 [==============================] - 38s 12ms/sample - loss: 0.2993 - accuracy: 0.8806 - val_loss: 0.3318 - val_accuracy: 0.8611\n",
      "Epoch 84/100\n",
      "3200/3240 [============================>.] - ETA: 0s - loss: 0.2994 - accuracy: 0.8806\n",
      "Epoch 00084: val_loss improved from 0.33181 to 0.33180, saving model to sentiment_checkpoint.keras\n",
      "3240/3240 [==============================] - 37s 11ms/sample - loss: 0.2993 - accuracy: 0.8806 - val_loss: 0.3318 - val_accuracy: 0.8611\n",
      "Epoch 85/100\n",
      "3200/3240 [============================>.] - ETA: 0s - loss: 0.3009 - accuracy: 0.8800\n",
      "Epoch 00085: val_loss improved from 0.33180 to 0.33180, saving model to sentiment_checkpoint.keras\n",
      "3240/3240 [==============================] - 38s 12ms/sample - loss: 0.2993 - accuracy: 0.8806 - val_loss: 0.3318 - val_accuracy: 0.8611\n",
      "Epoch 86/100\n",
      "3200/3240 [============================>.] - ETA: 0s - loss: 0.2981 - accuracy: 0.8809\n",
      "Epoch 00086: val_loss improved from 0.33180 to 0.33180, saving model to sentiment_checkpoint.keras\n",
      "3240/3240 [==============================] - 38s 12ms/sample - loss: 0.2993 - accuracy: 0.8806 - val_loss: 0.3318 - val_accuracy: 0.8611\n",
      "Epoch 87/100\n",
      "3200/3240 [============================>.] - ETA: 0s - loss: 0.3000 - accuracy: 0.8800\n",
      "Epoch 00087: val_loss improved from 0.33180 to 0.33180, saving model to sentiment_checkpoint.keras\n",
      "3240/3240 [==============================] - 38s 12ms/sample - loss: 0.2993 - accuracy: 0.8806 - val_loss: 0.3318 - val_accuracy: 0.8611\n",
      "Epoch 88/100\n",
      "3200/3240 [============================>.] - ETA: 0s - loss: 0.2985 - accuracy: 0.8809\n",
      "Epoch 00088: val_loss improved from 0.33180 to 0.33180, saving model to sentiment_checkpoint.keras\n",
      "3240/3240 [==============================] - 39s 12ms/sample - loss: 0.2993 - accuracy: 0.8802 - val_loss: 0.3318 - val_accuracy: 0.8611\n",
      "Epoch 89/100\n",
      "3200/3240 [============================>.] - ETA: 0s - loss: 0.3017 - accuracy: 0.8788\n",
      "Epoch 00089: val_loss improved from 0.33180 to 0.33179, saving model to sentiment_checkpoint.keras\n",
      "3240/3240 [==============================] - 39s 12ms/sample - loss: 0.2993 - accuracy: 0.8802 - val_loss: 0.3318 - val_accuracy: 0.8611\n",
      "Epoch 90/100\n",
      "3200/3240 [============================>.] - ETA: 0s - loss: 0.2986 - accuracy: 0.8806\n",
      "Epoch 00090: val_loss improved from 0.33179 to 0.33179, saving model to sentiment_checkpoint.keras\n",
      "3240/3240 [==============================] - 40s 12ms/sample - loss: 0.2993 - accuracy: 0.8802 - val_loss: 0.3318 - val_accuracy: 0.8611\n",
      "Epoch 91/100\n",
      "3200/3240 [============================>.] - ETA: 0s - loss: 0.2999 - accuracy: 0.8800\n",
      "Epoch 00091: val_loss improved from 0.33179 to 0.33179, saving model to sentiment_checkpoint.keras\n",
      "3240/3240 [==============================] - 39s 12ms/sample - loss: 0.2993 - accuracy: 0.8802 - val_loss: 0.3318 - val_accuracy: 0.8611\n",
      "Epoch 92/100\n",
      "3200/3240 [============================>.] - ETA: 0s - loss: 0.2999 - accuracy: 0.8797\n",
      "Epoch 00092: val_loss improved from 0.33179 to 0.33179, saving model to sentiment_checkpoint.keras\n",
      "3240/3240 [==============================] - 38s 12ms/sample - loss: 0.2993 - accuracy: 0.8802 - val_loss: 0.3318 - val_accuracy: 0.8611\n",
      "Epoch 93/100\n",
      "3200/3240 [============================>.] - ETA: 0s - loss: 0.3003 - accuracy: 0.8797\n",
      "Epoch 00093: val_loss improved from 0.33179 to 0.33179, saving model to sentiment_checkpoint.keras\n",
      "3240/3240 [==============================] - 38s 12ms/sample - loss: 0.2993 - accuracy: 0.8802 - val_loss: 0.3318 - val_accuracy: 0.8611\n",
      "Epoch 94/100\n",
      "3200/3240 [============================>.] - ETA: 0s - loss: 0.2985 - accuracy: 0.8816\n",
      "Epoch 00094: val_loss improved from 0.33179 to 0.33179, saving model to sentiment_checkpoint.keras\n",
      "3240/3240 [==============================] - 38s 12ms/sample - loss: 0.2993 - accuracy: 0.8802 - val_loss: 0.3318 - val_accuracy: 0.8611\n",
      "Epoch 95/100\n",
      "3200/3240 [============================>.] - ETA: 0s - loss: 0.2997 - accuracy: 0.8800\n",
      "Epoch 00095: val_loss improved from 0.33179 to 0.33178, saving model to sentiment_checkpoint.keras\n",
      "3240/3240 [==============================] - 38s 12ms/sample - loss: 0.2993 - accuracy: 0.8802 - val_loss: 0.3318 - val_accuracy: 0.8611\n",
      "Epoch 96/100\n",
      "3200/3240 [============================>.] - ETA: 0s - loss: 0.3001 - accuracy: 0.8797\n",
      "Epoch 00096: val_loss improved from 0.33178 to 0.33178, saving model to sentiment_checkpoint.keras\n",
      "3240/3240 [==============================] - 38s 12ms/sample - loss: 0.2993 - accuracy: 0.8802 - val_loss: 0.3318 - val_accuracy: 0.8611\n",
      "Epoch 97/100\n",
      "3200/3240 [============================>.] - ETA: 0s - loss: 0.3000 - accuracy: 0.8803\n",
      "Epoch 00097: val_loss improved from 0.33178 to 0.33178, saving model to sentiment_checkpoint.keras\n",
      "3240/3240 [==============================] - 38s 12ms/sample - loss: 0.2993 - accuracy: 0.8802 - val_loss: 0.3318 - val_accuracy: 0.8611\n",
      "Epoch 98/100\n",
      "3200/3240 [============================>.] - ETA: 0s - loss: 0.2998 - accuracy: 0.8797\n",
      "Epoch 00098: val_loss improved from 0.33178 to 0.33178, saving model to sentiment_checkpoint.keras\n",
      "3240/3240 [==============================] - 38s 12ms/sample - loss: 0.2993 - accuracy: 0.8799 - val_loss: 0.3318 - val_accuracy: 0.8611\n",
      "Epoch 99/100\n",
      "3200/3240 [============================>.] - ETA: 0s - loss: 0.3000 - accuracy: 0.8794\n",
      "Epoch 00099: val_loss improved from 0.33178 to 0.33178, saving model to sentiment_checkpoint.keras\n"
     ]
    },
    {
     "name": "stdout",
     "output_type": "stream",
     "text": [
      "3240/3240 [==============================] - 38s 12ms/sample - loss: 0.2993 - accuracy: 0.8799 - val_loss: 0.3318 - val_accuracy: 0.8611\n",
      "Epoch 100/100\n",
      "3200/3240 [============================>.] - ETA: 0s - loss: 0.2974 - accuracy: 0.8813\n",
      "Epoch 00100: val_loss improved from 0.33178 to 0.33178, saving model to sentiment_checkpoint.keras\n",
      "3240/3240 [==============================] - 38s 12ms/sample - loss: 0.2993 - accuracy: 0.8799 - val_loss: 0.3318 - val_accuracy: 0.8611\n"
     ]
    },
    {
     "data": {
      "text/plain": [
       "<tensorflow.python.keras.callbacks.History at 0x1e070451780>"
      ]
     },
     "execution_count": 165,
     "metadata": {},
     "output_type": "execute_result"
    }
   ],
   "source": [
    "model.fit(X_train,y_train,validation_split=0.1,epochs=100,batch_size=128,callbacks=callbacks)"
   ]
  },
  {
   "cell_type": "code",
   "execution_count": 168,
   "metadata": {
    "collapsed": true
   },
   "outputs": [
    {
     "name": "stdout",
     "output_type": "stream",
     "text": [
      "\r",
      "400/1 [================================================================================================================================================================================================================================================================================================================================================================================================================================================================================================================================================================================================================================================================================================================================================================================================================================================================================================================================================================================================================================================================================================================================================================================================================================================================================================================================================================================================================================================================================================================================================================================================================================================================================================================================================================================================================================================================================================================================================================================================================================================================================================================================================================================================================================================================================================================================================================================================================================================================================================================================================================================================================================================================================================================================================================================================================================================================================================================================================================================================================================================================================================================================================================================================================================================================================================================================================================================================================================================================================================================================================================================================================================================================================================================================================================================================================================================================================================================================================================================================================================================================================================================================================================================================================================================================================================================================================================================================================================================================================================================================================================================================================================================================================================================================================================================================================================================================================================================================================================================================================================================================================================================================================================================================================================================================================================================================================================================================================================================================================================================================================================================================================================================================================================================================================================================================================================================================================================================================================================================================================================================================================================================================================================================================================================================================================================================================================================================================================================================================================================================================================================================================================================================================================================================================================================================================================================================================================================================================================================================================================================================================================================================================================================================================================================================================================================================================================================================================================================================================================================================================================================================================================================================================================================================================================================================================================================================================================================================================================================================================================================================================================================================================================================================================================================================================================================================================================================================================================================================================================================================================================================================================================================================================================================================================================================================================================================================================================================================================================================================================================================================================================================================================================================================================================================================================================================================================================================================================================================================================================================================================================================================================================================================================================================================================================================================================================================================================================================================================================================================================================================================================================================================================================================================================================================================================================================================================================================================================================================================================================================================================================================================================================================================================================================================================================================================================================================================================================================================================================================================================================================================================================================================================================================================================================================================================================================================================================================================================================================================================================================================================================================================================================================================================================================================================================================================================================================================================================================================================================================================================================================================================================================================================================================================================================================================================================================================================================================================================================================================================================================] - 2s 4ms/sample - loss: 0.3450 - accuracy: 0.8400\n"
     ]
    },
    {
     "name": "stdout",
     "output_type": "stream",
     "text": [
      "Accuracy:84.00%\n"
     ]
    }
   ],
   "source": [
    "result=model.evaluate(X_test,y_test)\n",
    "print('Accuracy:{0:.2%}'.format(result[1]))"
   ]
  },
  {
   "cell_type": "code",
   "execution_count": 169,
   "metadata": {},
   "outputs": [
    {
     "name": "stdout",
     "output_type": "stream",
     "text": [
      "Accuracy:84.00%\n"
     ]
    }
   ],
   "source": [
    "print('Accuracy:{0:.2%}'.format(result[1]))"
   ]
  },
  {
   "cell_type": "code",
   "execution_count": null,
   "metadata": {},
   "outputs": [],
   "source": [
    "def predict_sentiment(text):\n",
    "    "
   ]
  },
  {
   "cell_type": "code",
   "execution_count": null,
   "metadata": {},
   "outputs": [],
   "source": []
  },
  {
   "cell_type": "code",
   "execution_count": null,
   "metadata": {},
   "outputs": [],
   "source": []
  },
  {
   "cell_type": "code",
   "execution_count": null,
   "metadata": {},
   "outputs": [],
   "source": []
  },
  {
   "cell_type": "code",
   "execution_count": 82,
   "metadata": {},
   "outputs": [
    {
     "data": {
      "text/plain": [
       "<gensim.models.keyedvectors.Vocab at 0x1e059104470>"
      ]
     },
     "execution_count": 82,
     "metadata": {},
     "output_type": "execute_result"
    }
   ],
   "source": [
    "cn_model.vocab['橘子']"
   ]
  },
  {
   "cell_type": "code",
   "execution_count": 67,
   "metadata": {},
   "outputs": [],
   "source": [
    "f=open('test.txt','r')"
   ]
  },
  {
   "cell_type": "code",
   "execution_count": null,
   "metadata": {
    "scrolled": true
   },
   "outputs": [],
   "source": [
    "text=[]\n",
    "line=f.readline()\n",
    "while line:\n",
    "    text.append(line)\n",
    "    line=f.readline()\n",
    "text"
   ]
  },
  {
   "cell_type": "code",
   "execution_count": 113,
   "metadata": {},
   "outputs": [
    {
     "data": {
      "text/plain": [
       "3"
      ]
     },
     "execution_count": 113,
     "metadata": {},
     "output_type": "execute_result"
    }
   ],
   "source": [
    "np.int(3.6)"
   ]
  },
  {
   "cell_type": "code",
   "execution_count": null,
   "metadata": {},
   "outputs": [],
   "source": []
  },
  {
   "cell_type": "code",
   "execution_count": null,
   "metadata": {},
   "outputs": [],
   "source": []
  },
  {
   "cell_type": "code",
   "execution_count": null,
   "metadata": {},
   "outputs": [],
   "source": []
  },
  {
   "cell_type": "code",
   "execution_count": 128,
   "metadata": {},
   "outputs": [
    {
     "name": "stdout",
     "output_type": "stream",
     "text": [
      "Help on function pad_sequences in module keras_preprocessing.sequence:\n",
      "\n",
      "pad_sequences(sequences, maxlen=None, dtype='int32', padding='pre', truncating='pre', value=0.0)\n",
      "    Pads sequences to the same length.\n",
      "    \n",
      "    This function transforms a list of\n",
      "    `num_samples` sequences (lists of integers)\n",
      "    into a 2D Numpy array of shape `(num_samples, num_timesteps)`.\n",
      "    `num_timesteps` is either the `maxlen` argument if provided,\n",
      "    or the length of the longest sequence otherwise.\n",
      "    \n",
      "    Sequences that are shorter than `num_timesteps`\n",
      "    are padded with `value` at the end.\n",
      "    \n",
      "    Sequences longer than `num_timesteps` are truncated\n",
      "    so that they fit the desired length.\n",
      "    The position where padding or truncation happens is determined by\n",
      "    the arguments `padding` and `truncating`, respectively.\n",
      "    \n",
      "    Pre-padding is the default.\n",
      "    \n",
      "    # Arguments\n",
      "        sequences: List of lists, where each element is a sequence.\n",
      "        maxlen: Int, maximum length of all sequences.\n",
      "        dtype: Type of the output sequences.\n",
      "            To pad sequences with variable length strings, you can use `object`.\n",
      "        padding: String, 'pre' or 'post':\n",
      "            pad either before or after each sequence.\n",
      "        truncating: String, 'pre' or 'post':\n",
      "            remove values from sequences larger than\n",
      "            `maxlen`, either at the beginning or at the end of the sequences.\n",
      "        value: Float or String, padding value.\n",
      "    \n",
      "    # Returns\n",
      "        x: Numpy array with shape `(len(sequences), maxlen)`\n",
      "    \n",
      "    # Raises\n",
      "        ValueError: In case of invalid values for `truncating` or `padding`,\n",
      "            or in case of invalid shape for a `sequences` entry.\n",
      "\n"
     ]
    }
   ],
   "source": [
    "help(pad_sequences)"
   ]
  },
  {
   "cell_type": "code",
   "execution_count": 115,
   "metadata": {},
   "outputs": [
    {
     "data": {
      "text/plain": [
       "1669430916720"
      ]
     },
     "execution_count": 115,
     "metadata": {},
     "output_type": "execute_result"
    }
   ],
   "source": [
    "id(b)"
   ]
  },
  {
   "cell_type": "code",
   "execution_count": 79,
   "metadata": {},
   "outputs": [],
   "source": [
    "t=jieba.cut('这是一个测试')"
   ]
  },
  {
   "cell_type": "code",
   "execution_count": 75,
   "metadata": {},
   "outputs": [
    {
     "name": "stderr",
     "output_type": "stream",
     "text": [
      "Building prefix dict from the default dictionary ...\n",
      "WARNING: Logging before flag parsing goes to stderr.\n",
      "I1223 20:21:45.334305  1928 __init__.py:111] Building prefix dict from the default dictionary ...\n",
      "Dumping model to file cache C:\\Users\\ADMINI~1\\AppData\\Local\\Temp\\jieba.cache\n",
      "I1223 20:21:46.092200  1928 __init__.py:145] Dumping model to file cache C:\\Users\\ADMINI~1\\AppData\\Local\\Temp\\jieba.cache\n",
      "Loading model cost 0.840 seconds.\n",
      "I1223 20:21:46.175977  1928 __init__.py:163] Loading model cost 0.840 seconds.\n",
      "Prefix dict has been built succesfully.\n",
      "I1223 20:21:46.176974  1928 __init__.py:164] Prefix dict has been built succesfully.\n"
     ]
    },
    {
     "name": "stdout",
     "output_type": "stream",
     "text": [
      "这是\n",
      "一个\n",
      "测试\n"
     ]
    }
   ],
   "source": [
    "for i in t:\n",
    "    print(i)"
   ]
  },
  {
   "cell_type": "code",
   "execution_count": 80,
   "metadata": {},
   "outputs": [
    {
     "name": "stdout",
     "output_type": "stream",
     "text": [
      "0 这是\n",
      "1 一个\n",
      "2 测试\n"
     ]
    }
   ],
   "source": [
    "for i,tt in enumerate(t):\n",
    "    print(i,tt)"
   ]
  },
  {
   "cell_type": "code",
   "execution_count": 130,
   "metadata": {},
   "outputs": [],
   "source": [
    "stack=[1,2]"
   ]
  },
  {
   "cell_type": "code",
   "execution_count": 131,
   "metadata": {},
   "outputs": [
    {
     "data": {
      "text/plain": [
       "2"
      ]
     },
     "execution_count": 131,
     "metadata": {},
     "output_type": "execute_result"
    }
   ],
   "source": [
    "stack.pop()"
   ]
  },
  {
   "cell_type": "code",
   "execution_count": null,
   "metadata": {},
   "outputs": [],
   "source": []
  }
 ],
 "metadata": {
  "kernelspec": {
   "display_name": "Python 3",
   "language": "python",
   "name": "python3"
  },
  "language_info": {
   "codemirror_mode": {
    "name": "ipython",
    "version": 3
   },
   "file_extension": ".py",
   "mimetype": "text/x-python",
   "name": "python",
   "nbconvert_exporter": "python",
   "pygments_lexer": "ipython3",
   "version": "3.7.1"
  },
  "toc": {
   "base_numbering": 1,
   "nav_menu": {},
   "number_sections": true,
   "sideBar": true,
   "skip_h1_title": false,
   "title_cell": "Table of Contents",
   "title_sidebar": "Contents",
   "toc_cell": false,
   "toc_position": {},
   "toc_section_display": true,
   "toc_window_display": false
  }
 },
 "nbformat": 4,
 "nbformat_minor": 2
}
