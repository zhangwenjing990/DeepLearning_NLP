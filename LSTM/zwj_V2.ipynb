{
 "cells": [
  {
   "cell_type": "code",
   "execution_count": 1,
   "metadata": {},
   "outputs": [],
   "source": [
    "import numpy as np\n",
    "import matplotlib.pyplot as plt\n",
    "import re\n",
    "import jieba\n",
    "from gensim.models import KeyedVectors\n",
    "import warnings\n",
    "warnings.filterwarnings('ignore')\n",
    "import bz2"
   ]
  },
  {
   "cell_type": "code",
   "execution_count": 2,
   "metadata": {},
   "outputs": [],
   "source": [
    "with open('embeddings/sgns.zhihu.bigram','wb') as new_file,open('embeddings/sgns.zhihu.bigram.bz2','rb') as file:\n",
    "    decompressor=bz2.BZ2Decompressor()\n",
    "    for data in iter(lambda:file.read(100*1024),b''):\n",
    "        new_file.write(decompressor.decompress(data))"
   ]
  },
  {
   "cell_type": "code",
   "execution_count": 3,
   "metadata": {},
   "outputs": [],
   "source": [
    "cn_model=KeyedVectors.load_word2vec_format('embeddings/sgns.zhihu.bigram',binary=False,unicode_errors='ignore')"
   ]
  },
  {
   "cell_type": "code",
   "execution_count": 4,
   "metadata": {},
   "outputs": [],
   "source": [
    "import pandas as pd"
   ]
  },
  {
   "cell_type": "code",
   "execution_count": 20,
   "metadata": {},
   "outputs": [],
   "source": [
    "data=pd.read_csv('data.csv')"
   ]
  },
  {
   "cell_type": "code",
   "execution_count": 21,
   "metadata": {},
   "outputs": [],
   "source": [
    "train_texts_orig=list(data.review)\n",
    "train_target=list(data.label)"
   ]
  },
  {
   "cell_type": "code",
   "execution_count": 13,
   "metadata": {},
   "outputs": [],
   "source": [
    "from tensorflow.keras.models import Sequential\n",
    "from tensorflow.keras.layers import Dense,GRU,Embedding,LSTM,Bidirectional\n",
    "from tensorflow.keras.preprocessing.text import Tokenizer\n",
    "from tensorflow.keras.preprocessing.sequence import pad_sequences\n",
    "from tensorflow.keras.optimizers import RMSprop\n",
    "from tensorflow.keras.optimizers import Adam\n",
    "from tensorflow.python.keras.callbacks import EarlyStopping,ModelCheckpoint,TensorBoard,ReduceLROnPlateau"
   ]
  },
  {
   "cell_type": "code",
   "execution_count": 23,
   "metadata": {
    "scrolled": true
   },
   "outputs": [],
   "source": [
    "train_tokens=[]\n",
    "for text in train_texts_orig:\n",
    "    text=re.sub('[\\s+\\.\\!\\/_,$%^*(+\\\"\\']+|[+——！，。？、~@#￥%……&*（）]+','',text)\n",
    "    cut=jieba.cut(text)\n",
    "    cut_list=[i for i in cut]\n",
    "    for i,word in enumerate(cut_list):\n",
    "        try:\n",
    "            cut_list[i]=cn_model.vocab[word].index\n",
    "        except KeyError:\n",
    "            cut_list[i]=0\n",
    "    train_tokens.append(cut_list)\n",
    "                "
   ]
  },
  {
   "cell_type": "code",
   "execution_count": 25,
   "metadata": {},
   "outputs": [],
   "source": [
    "num_tokens=[len(tokens) for tokens in train_tokens]\n",
    "num_tokens=np.array(num_tokens)"
   ]
  },
  {
   "cell_type": "code",
   "execution_count": 26,
   "metadata": {},
   "outputs": [
    {
     "data": {
      "text/plain": [
       "67.77707662588539"
      ]
     },
     "execution_count": 26,
     "metadata": {},
     "output_type": "execute_result"
    }
   ],
   "source": [
    "np.mean(num_tokens)"
   ]
  },
  {
   "cell_type": "code",
   "execution_count": 27,
   "metadata": {},
   "outputs": [
    {
     "data": {
      "text/plain": [
       "1540"
      ]
     },
     "execution_count": 27,
     "metadata": {},
     "output_type": "execute_result"
    }
   ],
   "source": [
    "np.max(num_tokens)"
   ]
  },
  {
   "cell_type": "code",
   "execution_count": 28,
   "metadata": {},
   "outputs": [
    {
     "data": {
      "image/png": "[encoded data removed]",
      "text/plain": [
       "<Figure size 432x288 with 1 Axes>"
      ]
     },
     "metadata": {
      "needs_background": "light"
     },
     "output_type": "display_data"
    }
   ],
   "source": [
    "plt.hist(np.log(num_tokens),bins=100)\n",
    "plt.xlim(0,10)\n",
    "plt.ylabel('number of tokens')\n",
    "plt.xlabel('length of tokens')\n",
    "plt.title('Distribution of token length')\n",
    "plt.show()"
   ]
  },
  {
   "cell_type": "code",
   "execution_count": 29,
   "metadata": {},
   "outputs": [
    {
     "data": {
      "text/plain": [
       "222"
      ]
     },
     "execution_count": 29,
     "metadata": {},
     "output_type": "execute_result"
    }
   ],
   "source": [
    "max_tokens=np.mean(num_tokens)+2*np.std(num_tokens)\n",
    "max_tokens=int(max_tokens)\n",
    "max_tokens"
   ]
  },
  {
   "cell_type": "code",
   "execution_count": 30,
   "metadata": {},
   "outputs": [
    {
     "data": {
      "text/plain": [
       "0.9563425627817128"
      ]
     },
     "execution_count": 30,
     "metadata": {},
     "output_type": "execute_result"
    }
   ],
   "source": [
    "np.sum(num_tokens<max_tokens)/len(num_tokens)"
   ]
  },
  {
   "cell_type": "code",
   "execution_count": 31,
   "metadata": {},
   "outputs": [],
   "source": [
    "def reverse_tokens(tokens):\n",
    "    text=''\n",
    "    for i in tokens:\n",
    "        if i != 0:\n",
    "            text=text+cn_model.index2word[i]\n",
    "        else:\n",
    "            text=text+' '\n",
    "    return text"
   ]
  },
  {
   "cell_type": "code",
   "execution_count": 32,
   "metadata": {},
   "outputs": [
    {
     "data": {
      "text/plain": [
       "'早餐太差无论去多少人那边也不加食品的酒店应该重视一下这个问题了房间本身很好'"
      ]
     },
     "execution_count": 32,
     "metadata": {},
     "output_type": "execute_result"
    }
   ],
   "source": [
    "reverse=reverse_tokens(train_tokens[2])\n",
    "reverse"
   ]
  },
  {
   "cell_type": "code",
   "execution_count": 33,
   "metadata": {},
   "outputs": [
    {
     "data": {
      "text/plain": [
       "'早餐太差，无论去多少人，那边也不加食品的。酒店应该重视一下这个问题了。房间本身很好。'"
      ]
     },
     "execution_count": 33,
     "metadata": {},
     "output_type": "execute_result"
    }
   ],
   "source": [
    "train_texts_orig[2]"
   ]
  },
  {
   "cell_type": "code",
   "execution_count": 35,
   "metadata": {},
   "outputs": [],
   "source": [
    "num_words=50000\n",
    "embedding_dim=cn_model['山东大学'].shape[0]\n",
    "embedding_matrix=np.zeros((num_words,embedding_dim))\n",
    "for i in range(num_words):\n",
    "    embedding_matrix[i,:]=cn_model[cn_model.index2word[i]]\n",
    "embedding_matrix=embedding_matrix.astype('float32')"
   ]
  },
  {
   "cell_type": "code",
   "execution_count": 36,
   "metadata": {},
   "outputs": [
    {
     "data": {
      "text/plain": [
       "300"
      ]
     },
     "execution_count": 36,
     "metadata": {},
     "output_type": "execute_result"
    }
   ],
   "source": [
    "np.sum(cn_model[cn_model.index2word[333]]==embedding_matrix[333])"
   ]
  },
  {
   "cell_type": "code",
   "execution_count": 37,
   "metadata": {},
   "outputs": [
    {
     "data": {
      "text/plain": [
       "(50000, 300)"
      ]
     },
     "execution_count": 37,
     "metadata": {},
     "output_type": "execute_result"
    }
   ],
   "source": [
    "embedding_matrix.shape"
   ]
  },
  {
   "cell_type": "code",
   "execution_count": 38,
   "metadata": {},
   "outputs": [],
   "source": [
    "train_pad=pad_sequences(train_tokens,maxlen=max_tokens,padding='pre',truncating='pre')"
   ]
  },
  {
   "cell_type": "code",
   "execution_count": 39,
   "metadata": {},
   "outputs": [],
   "source": [
    "train_pad[train_pad>=num_words]=0"
   ]
  },
  {
   "cell_type": "code",
   "execution_count": 40,
   "metadata": {},
   "outputs": [
    {
     "data": {
      "text/plain": [
       "115"
      ]
     },
     "execution_count": 40,
     "metadata": {},
     "output_type": "execute_result"
    }
   ],
   "source": [
    "len(train_tokens[33])"
   ]
  },
  {
   "cell_type": "code",
   "execution_count": 41,
   "metadata": {},
   "outputs": [],
   "source": [
    "train_target=np.array(train_target)"
   ]
  },
  {
   "cell_type": "code",
   "execution_count": 42,
   "metadata": {},
   "outputs": [],
   "source": [
    "from sklearn.model_selection import train_test_split"
   ]
  },
  {
   "cell_type": "code",
   "execution_count": 43,
   "metadata": {},
   "outputs": [],
   "source": [
    "X_train,X_test,y_train,y_test=train_test_split(train_pad,train_target,test_size=0.1,random_state=12)"
   ]
  },
  {
   "cell_type": "code",
   "execution_count": 44,
   "metadata": {},
   "outputs": [
    {
     "name": "stdout",
     "output_type": "stream",
     "text": [
      "                                                                                                                                     这个小店可能是因为在 住的外国人比较多服务态度就差了一点素质比较低对于签名还要问你：这是写的什么啊我都不认识入住首先就让你签订一个贵重物品丢失不赔的协议给你的第一感觉就是 不安全感以至于我们出去吃饭的时候都把笔记本电脑背上本来预定了3 了一个晚上 赶快跑吧以后是不会再去了还不能刷卡招待所都不如\n",
      "class: 0\n"
     ]
    }
   ],
   "source": [
    "print(reverse_tokens(X_train[35]))\n",
    "print('class:',y_train[35])"
   ]
  },
  {
   "cell_type": "code",
   "execution_count": 76,
   "metadata": {},
   "outputs": [],
   "source": [
    "model=Sequential()"
   ]
  },
  {
   "cell_type": "code",
   "execution_count": 77,
   "metadata": {},
   "outputs": [],
   "source": [
    "model.add(Embedding(num_words,embedding_dim,weights=[embedding_matrix],input_length=max_tokens,trainable=False))"
   ]
  },
  {
   "cell_type": "code",
   "execution_count": 78,
   "metadata": {},
   "outputs": [],
   "source": [
    "model.add(Bidirectional(LSTM(units=64,return_sequences=True)))\n",
    "model.add(LSTM(units=16,return_sequences=False))"
   ]
  },
  {
   "cell_type": "code",
   "execution_count": 79,
   "metadata": {},
   "outputs": [],
   "source": [
    "model.add(Dense(1,activation='sigmoid'))\n",
    "optimizer=Adam(lr=1e-3)"
   ]
  },
  {
   "cell_type": "code",
   "execution_count": 80,
   "metadata": {},
   "outputs": [],
   "source": [
    "model.compile(loss='binary_crossentropy',optimizer=optimizer,metrics=['accuracy','AUC'])"
   ]
  },
  {
   "cell_type": "code",
   "execution_count": 81,
   "metadata": {},
   "outputs": [
    {
     "name": "stdout",
     "output_type": "stream",
     "text": [
      "Model: \"sequential_1\"\n",
      "_________________________________________________________________\n",
      "Layer (type)                 Output Shape              Param #   \n",
      "=================================================================\n",
      "embedding_1 (Embedding)      (None, 222, 300)          15000000  \n",
      "_________________________________________________________________\n",
      "bidirectional_1 (Bidirection (None, 222, 128)          186880    \n",
      "_________________________________________________________________\n",
      "lstm_3 (LSTM)                (None, 16)                9280      \n",
      "_________________________________________________________________\n",
      "dense_1 (Dense)              (None, 1)                 17        \n",
      "=================================================================\n",
      "Total params: 15,196,177\n",
      "Trainable params: 196,177\n",
      "Non-trainable params: 15,000,000\n",
      "_________________________________________________________________\n"
     ]
    }
   ],
   "source": [
    "model.summary()"
   ]
  },
  {
   "cell_type": "code",
   "execution_count": 82,
   "metadata": {},
   "outputs": [],
   "source": [
    "path_checkpoint='sentiment_checkpoint.keras'\n",
    "checkpoint=ModelCheckpoint(filepath=path_checkpoint,monitor='val_loss',verbose=1,save_weights_only=True,save_best_only=True)"
   ]
  },
  {
   "cell_type": "code",
   "execution_count": 83,
   "metadata": {},
   "outputs": [],
   "source": [
    "earlystopping=EarlyStopping(monitor='val_loss',patience=5,verbose=1)"
   ]
  },
  {
   "cell_type": "code",
   "execution_count": 84,
   "metadata": {},
   "outputs": [],
   "source": [
    "lr_reduction=ReduceLROnPlateau(monitor='val_loss',factor=0.1,min_lr=1e-8,patience=0,verbose=1)"
   ]
  },
  {
   "cell_type": "code",
   "execution_count": 85,
   "metadata": {},
   "outputs": [],
   "source": [
    "callbacks=[earlystopping,checkpoint,lr_reduction]"
   ]
  },
  {
   "cell_type": "code",
   "execution_count": 86,
   "metadata": {
    "scrolled": true
   },
   "outputs": [
    {
     "name": "stdout",
     "output_type": "stream",
     "text": [
      "Train on 6289 samples, validate on 699 samples\n",
      "Epoch 1/20\n",
      "6272/6289 [============================>.] - ETA: 0s - loss: 0.5286 - accuracy: 0.7409 - AUC: 0.7587\n",
      "Epoch 00001: val_loss improved from inf to 0.38657, saving model to sentiment_checkpoint.keras\n",
      "6289/6289 [==============================] - 68s 11ms/sample - loss: 0.5278 - accuracy: 0.7415 - AUC: 0.7597 - val_loss: 0.3866 - val_accuracy: 0.8269 - val_AUC: 0.8803\n",
      "Epoch 2/20\n",
      "6272/6289 [============================>.] - ETA: 0s - loss: 0.4010 - accuracy: 0.8213 - AUC: 0.8805\n",
      "Epoch 00002: val_loss did not improve from 0.38657\n",
      "\n",
      "Epoch 00002: ReduceLROnPlateau reducing learning rate to 0.00010000000474974513.\n",
      "6289/6289 [==============================] - 60s 10ms/sample - loss: 0.4015 - accuracy: 0.8213 - AUC: 0.8802 - val_loss: 0.4861 - val_accuracy: 0.7425 - val_AUC: 0.8270\n",
      "Epoch 3/20\n",
      "6272/6289 [============================>.] - ETA: 0s - loss: 0.3989 - accuracy: 0.8184 - AUC: 0.8843\n",
      "Epoch 00003: val_loss did not improve from 0.38657\n",
      "\n",
      "Epoch 00003: ReduceLROnPlateau reducing learning rate to 1.0000000474974514e-05.\n",
      "6289/6289 [==============================] - 62s 10ms/sample - loss: 0.3989 - accuracy: 0.8186 - AUC: 0.8845 - val_loss: 0.3951 - val_accuracy: 0.8226 - val_AUC: 0.8751\n",
      "Epoch 4/20\n",
      "6272/6289 [============================>.] - ETA: 0s - loss: 0.3628 - accuracy: 0.8476 - AUC: 0.9052\n",
      "Epoch 00004: val_loss improved from 0.38657 to 0.38080, saving model to sentiment_checkpoint.keras\n",
      "6289/6289 [==============================] - 62s 10ms/sample - loss: 0.3627 - accuracy: 0.8477 - AUC: 0.9051 - val_loss: 0.3808 - val_accuracy: 0.8312 - val_AUC: 0.8805\n",
      "Epoch 5/20\n",
      "6272/6289 [============================>.] - ETA: 0s - loss: 0.3572 - accuracy: 0.8503 - AUC: 0.9087\n",
      "Epoch 00005: val_loss improved from 0.38080 to 0.37832, saving model to sentiment_checkpoint.keras\n",
      "6289/6289 [==============================] - 65s 10ms/sample - loss: 0.3570 - accuracy: 0.8504 - AUC: 0.9089 - val_loss: 0.3783 - val_accuracy: 0.8298 - val_AUC: 0.8826\n",
      "Epoch 6/20\n",
      "6272/6289 [============================>.] - ETA: 0s - loss: 0.3531 - accuracy: 0.8536 - AUC: 0.9106\n",
      "Epoch 00006: val_loss improved from 0.37832 to 0.37434, saving model to sentiment_checkpoint.keras\n",
      "6289/6289 [==============================] - 64s 10ms/sample - loss: 0.3531 - accuracy: 0.8536 - AUC: 0.9107 - val_loss: 0.3743 - val_accuracy: 0.8383 - val_AUC: 0.8847\n",
      "Epoch 7/20\n",
      "6272/6289 [============================>.] - ETA: 0s - loss: 0.3498 - accuracy: 0.8560 - AUC: 0.9118\n",
      "Epoch 00007: val_loss improved from 0.37434 to 0.37292, saving model to sentiment_checkpoint.keras\n",
      "6289/6289 [==============================] - 64s 10ms/sample - loss: 0.3497 - accuracy: 0.8561 - AUC: 0.9120 - val_loss: 0.3729 - val_accuracy: 0.8369 - val_AUC: 0.8869\n",
      "Epoch 8/20\n",
      "6272/6289 [============================>.] - ETA: 0s - loss: 0.3464 - accuracy: 0.8603 - AUC: 0.9135\n",
      "Epoch 00008: val_loss improved from 0.37292 to 0.36731, saving model to sentiment_checkpoint.keras\n",
      "6289/6289 [==============================] - 64s 10ms/sample - loss: 0.3465 - accuracy: 0.8604 - AUC: 0.9134 - val_loss: 0.3673 - val_accuracy: 0.8441 - val_AUC: 0.8896\n",
      "Epoch 9/20\n",
      "6272/6289 [============================>.] - ETA: 0s - loss: 0.3437 - accuracy: 0.8613 - AUC: 0.9149\n",
      "Epoch 00009: val_loss improved from 0.36731 to 0.36533, saving model to sentiment_checkpoint.keras\n",
      "6289/6289 [==============================] - 65s 10ms/sample - loss: 0.3434 - accuracy: 0.8615 - AUC: 0.9151 - val_loss: 0.3653 - val_accuracy: 0.8484 - val_AUC: 0.8914\n",
      "Epoch 10/20\n",
      "6272/6289 [============================>.] - ETA: 0s - loss: 0.3408 - accuracy: 0.8643 - AUC: 0.9162\n",
      "Epoch 00010: val_loss improved from 0.36533 to 0.36172, saving model to sentiment_checkpoint.keras\n",
      "6289/6289 [==============================] - 64s 10ms/sample - loss: 0.3409 - accuracy: 0.8644 - AUC: 0.9163 - val_loss: 0.3617 - val_accuracy: 0.8512 - val_AUC: 0.8930\n",
      "Epoch 11/20\n",
      "6272/6289 [============================>.] - ETA: 0s - loss: 0.3385 - accuracy: 0.8656 - AUC: 0.9175\n",
      "Epoch 00011: val_loss improved from 0.36172 to 0.35941, saving model to sentiment_checkpoint.keras\n",
      "6289/6289 [==============================] - 63s 10ms/sample - loss: 0.3381 - accuracy: 0.8658 - AUC: 0.9176 - val_loss: 0.3594 - val_accuracy: 0.8484 - val_AUC: 0.8953\n",
      "Epoch 12/20\n",
      "6272/6289 [============================>.] - ETA: 0s - loss: 0.3350 - accuracy: 0.8659 - AUC: 0.9190\n",
      "Epoch 00012: val_loss improved from 0.35941 to 0.35476, saving model to sentiment_checkpoint.keras\n",
      "6289/6289 [==============================] - 63s 10ms/sample - loss: 0.3356 - accuracy: 0.8655 - AUC: 0.9189 - val_loss: 0.3548 - val_accuracy: 0.8526 - val_AUC: 0.8972\n",
      "Epoch 13/20\n",
      "6272/6289 [============================>.] - ETA: 0s - loss: 0.3336 - accuracy: 0.8646 - AUC: 0.9197\n",
      "Epoch 00013: val_loss improved from 0.35476 to 0.35186, saving model to sentiment_checkpoint.keras\n",
      "6289/6289 [==============================] - 64s 10ms/sample - loss: 0.3334 - accuracy: 0.8647 - AUC: 0.9198 - val_loss: 0.3519 - val_accuracy: 0.8541 - val_AUC: 0.8995\n",
      "Epoch 14/20\n",
      "6272/6289 [============================>.] - ETA: 0s - loss: 0.3306 - accuracy: 0.8667 - AUC: 0.9212\n",
      "Epoch 00014: val_loss improved from 0.35186 to 0.34921, saving model to sentiment_checkpoint.keras\n",
      "6289/6289 [==============================] - 64s 10ms/sample - loss: 0.3308 - accuracy: 0.8666 - AUC: 0.9210 - val_loss: 0.3492 - val_accuracy: 0.8569 - val_AUC: 0.9011\n",
      "Epoch 15/20\n",
      "6272/6289 [============================>.] - ETA: 0s - loss: 0.3288 - accuracy: 0.8670 - AUC: 0.9222\n",
      "Epoch 00015: val_loss improved from 0.34921 to 0.34691, saving model to sentiment_checkpoint.keras\n",
      "6289/6289 [==============================] - 63s 10ms/sample - loss: 0.3289 - accuracy: 0.8669 - AUC: 0.9222 - val_loss: 0.3469 - val_accuracy: 0.8612 - val_AUC: 0.9024\n",
      "Epoch 16/20\n",
      "6272/6289 [============================>.] - ETA: 0s - loss: 0.3271 - accuracy: 0.8673 - AUC: 0.9230\n",
      "Epoch 00016: val_loss improved from 0.34691 to 0.34618, saving model to sentiment_checkpoint.keras\n",
      "6289/6289 [==============================] - 64s 10ms/sample - loss: 0.3274 - accuracy: 0.8672 - AUC: 0.9229 - val_loss: 0.3462 - val_accuracy: 0.8584 - val_AUC: 0.9036\n",
      "Epoch 17/20\n",
      "6272/6289 [============================>.] - ETA: 0s - loss: 0.3246 - accuracy: 0.8677 - AUC: 0.9242\n",
      "Epoch 00017: val_loss improved from 0.34618 to 0.34435, saving model to sentiment_checkpoint.keras\n",
      "6289/6289 [==============================] - 65s 10ms/sample - loss: 0.3246 - accuracy: 0.8677 - AUC: 0.9243 - val_loss: 0.3443 - val_accuracy: 0.8612 - val_AUC: 0.9049\n",
      "Epoch 18/20\n",
      "6272/6289 [============================>.] - ETA: 0s - loss: 0.3232 - accuracy: 0.8693 - AUC: 0.9247\n",
      "Epoch 00018: val_loss improved from 0.34435 to 0.34328, saving model to sentiment_checkpoint.keras\n",
      "6289/6289 [==============================] - 64s 10ms/sample - loss: 0.3229 - accuracy: 0.8695 - AUC: 0.9249 - val_loss: 0.3433 - val_accuracy: 0.8569 - val_AUC: 0.9064\n",
      "Epoch 19/20\n",
      "6272/6289 [============================>.] - ETA: 0s - loss: 0.3213 - accuracy: 0.8707 - AUC: 0.9259\n",
      "Epoch 00019: val_loss improved from 0.34328 to 0.34029, saving model to sentiment_checkpoint.keras\n",
      "6289/6289 [==============================] - 64s 10ms/sample - loss: 0.3211 - accuracy: 0.8709 - AUC: 0.9260 - val_loss: 0.3403 - val_accuracy: 0.8627 - val_AUC: 0.9071\n",
      "Epoch 20/20\n",
      "6272/6289 [============================>.] - ETA: 0s - loss: 0.3198 - accuracy: 0.8702 - AUC: 0.9265\n",
      "Epoch 00020: val_loss improved from 0.34029 to 0.33970, saving model to sentiment_checkpoint.keras\n",
      "6289/6289 [==============================] - 64s 10ms/sample - loss: 0.3195 - accuracy: 0.8702 - AUC: 0.9267 - val_loss: 0.3397 - val_accuracy: 0.8598 - val_AUC: 0.9085\n"
     ]
    },
    {
     "data": {
      "text/plain": [
       "<tensorflow.python.keras.callbacks.History at 0x20f50df5518>"
      ]
     },
     "execution_count": 86,
     "metadata": {},
     "output_type": "execute_result"
    }
   ],
   "source": [
    "model.fit(X_train,y_train,validation_split=0.1,epochs=20,batch_size=128,callbacks=callbacks)"
   ]
  },
  {
   "cell_type": "code",
   "execution_count": 87,
   "metadata": {},
   "outputs": [
    {
     "name": "stdout",
     "output_type": "stream",
     "text": [
      "\r",
      "777/1 [==============================================================================================================================================================================================================================================================================================================================================================================================================================================================================================================================================================================================================================================================================================================================================================================================================================================================================================================================================================================================================================================================================================================================================================================================================================================================================================================================================================================================================================================================================================================================================================================================================================================================================================================================================================================================================================================================================================================================================================================================================================================================================================================================================================================================================================================================================================================================================================================================================================================================================================================================================================================================================================================================================================================================================================================================================================================================================================================================================================================================================================================================================================================================================================================================================================================================================================================================================================================================================================================================================================================================================================================================================================================================================================================================================================================================================================================================================================================================================================================================================================================================================================================================================================================================================================================================================================================================================================================================================================================================================================================================================================================================================================================================================================================================================================================================================================================================================================================================================================================================================================================================================================================================================================================================================================================================================================================================================================================================================================================================================================================================================================================================================================================================================================================================================================================================================================================================================================================================================================================================================================================================================================================================================================================================================================================================================================================================================================================================================================================================================================================================================================================================================================================================================================================================================================================================================================================================================================================================================================================================================================================================================================================================================================================================================================================================================================================================================================================================================================================================================================================================================================================================================================================================================================================================================================================================================================================================================================================================================================================================================================================================================================================================================================================================================================================================================================================================================================================================================================================================================================================================================================================================================================================================================================================================================================================================================================================================================================================================================================================================================================================================================================================================================================================================================================================================================================================================================================================================================================================================================================================================================================================================================================================================================================================================================================================================================================================================================================================================================================================================================================================================================================================================================================================================================================================================================================================================================================================================================================================================================================================================================================================================================================================================================================================================================================================================================================================================================================================================================================================================================================================================================================================================================================================================================================================================================================================================================================================================================================================================================================================================================================================================================================================================================================================================================================================================================================================================================================================================================================================================================================================================================================================================================================================================================================================================================================================================================================================================================================================================================================================================================================================================================================================================================================================================================================================================================================================================================================================================================================================================================================================================================================================================================================================================================================================================================================================================================================================================================================================================================================================================================================================================================================================================================================================================================================================================================================================================================================================================================================================================================================================================================================================================================================================================================================================================================================================================================================================================================================================================================================================================================================================================================================================================================================================================================================================================================================================================================================================================================================================================================================================================================================================================================================================================================================================================================================================================================================================================================================================================================================================================================================================================================================================================================================================================================================================================================================================================================================================================================================================================================================================================================================================================================================================================================================================================================================================================================================================================================================================================================================================================================================================================================================================================================================================================================================================================================================================================================================================================================================================================================================================================================================================================================================================================================================================================================================================================================================================================================================================================================================================================================================================================================================================================================================================================================================================================================================================================================================================================================================================================================================================================================================================================================================================================================================================================================================================================================================================================================================================================================================================================================================================================================================================================================================================================================================================================================================================================================================================================================================================================================================================================================================================================================================================================================================================================================================================================================================================================================================================================================================================================================================================================================================================================================================================================================================================================================================================================================================================================================================================================================================================================================================================================================================================================================================================================================================================================================================================================================================================================================================================================================================================================================================================================================================================================================================================================================================================================================================================================================================================================================================================================================================================================================================================================================================================================================================================================================================================================================================================================================================================================================================================================================================================================================================================================================================================================================================================================================================================================================================================================================================================================================================================================================================================================================================================================================================================================================================================================================================================================================================================================================================================================================================================================================================================================================================================================================================================================================================================================================================================================================================================================================================================================================================================================================================================================================================================================================================================================================================================================================================================================================================================================================================================================================================================================================================================================================================================================================================================================================================================================================================================================================================================================================================================================================================================================================] - 3s 4ms/sample - loss: 0.4761 - accuracy: 0.8288 - AUC: 0.9035\n"
     ]
    },
    {
     "name": "stdout",
     "output_type": "stream",
     "text": [
      "Accuracy:82.88%\n"
     ]
    }
   ],
   "source": [
    "result=model.evaluate(X_test,y_test)\n",
    "print('Accuracy:{0:.2%}'.format(result[1]))"
   ]
  },
  {
   "cell_type": "code",
   "execution_count": null,
   "metadata": {},
   "outputs": [],
   "source": []
  },
  {
   "cell_type": "code",
   "execution_count": null,
   "metadata": {},
   "outputs": [],
   "source": []
  },
  {
   "cell_type": "code",
   "execution_count": null,
   "metadata": {
    "scrolled": false
   },
   "outputs": [],
   "source": [
    "train_texts_orig"
   ]
  },
  {
   "cell_type": "code",
   "execution_count": null,
   "metadata": {},
   "outputs": [],
   "source": []
  },
  {
   "cell_type": "code",
   "execution_count": 10,
   "metadata": {},
   "outputs": [
    {
     "data": {
      "text/plain": [
       "Index(['label', 'review'], dtype='object')"
      ]
     },
     "execution_count": 10,
     "metadata": {},
     "output_type": "execute_result"
    }
   ],
   "source": [
    "data.columns"
   ]
  },
  {
   "cell_type": "code",
   "execution_count": 58,
   "metadata": {},
   "outputs": [
    {
     "name": "stdout",
     "output_type": "stream",
     "text": [
      "Help on method compile in module tensorflow.python.keras.engine.training:\n",
      "\n",
      "compile(optimizer='rmsprop', loss=None, metrics=None, loss_weights=None, sample_weight_mode=None, weighted_metrics=None, target_tensors=None, distribute=None, **kwargs) method of tensorflow.python.keras.engine.sequential.Sequential instance\n",
      "    Configures the model for training.\n",
      "    \n",
      "    Arguments:\n",
      "        optimizer: String (name of optimizer) or optimizer instance.\n",
      "            See `tf.keras.optimizers`.\n",
      "        loss: String (name of objective function), objective function or\n",
      "            `tf.losses.Loss` instance. See `tf.losses`. If the model has\n",
      "            multiple outputs, you can use a different loss on each output by\n",
      "            passing a dictionary or a list of losses. The loss value that will\n",
      "            be minimized by the model will then be the sum of all individual\n",
      "            losses.\n",
      "        metrics: List of metrics to be evaluated by the model during training\n",
      "            and testing. Typically you will use `metrics=['accuracy']`.\n",
      "            To specify different metrics for different outputs of a\n",
      "            multi-output model, you could also pass a dictionary, such as\n",
      "            `metrics={'output_a': 'accuracy', 'output_b': ['accuracy', 'mse']}`.\n",
      "            You can also pass a list (len = len(outputs)) of lists of metrics\n",
      "            such as `metrics=[['accuracy'], ['accuracy', 'mse']]` or\n",
      "            `metrics=['accuracy', ['accuracy', 'mse']]`.\n",
      "        loss_weights: Optional list or dictionary specifying scalar\n",
      "            coefficients (Python floats) to weight the loss contributions\n",
      "            of different model outputs.\n",
      "            The loss value that will be minimized by the model\n",
      "            will then be the *weighted sum* of all individual losses,\n",
      "            weighted by the `loss_weights` coefficients.\n",
      "            If a list, it is expected to have a 1:1 mapping\n",
      "            to the model's outputs. If a tensor, it is expected to map\n",
      "            output names (strings) to scalar coefficients.\n",
      "        sample_weight_mode: If you need to do timestep-wise\n",
      "            sample weighting (2D weights), set this to `\"temporal\"`.\n",
      "            `None` defaults to sample-wise weights (1D).\n",
      "            If the model has multiple outputs, you can use a different\n",
      "            `sample_weight_mode` on each output by passing a\n",
      "            dictionary or a list of modes.\n",
      "        weighted_metrics: List of metrics to be evaluated and weighted\n",
      "            by sample_weight or class_weight during training and testing.\n",
      "        target_tensors: By default, Keras will create placeholders for the\n",
      "            model's target, which will be fed with the target data during\n",
      "            training. If instead you would like to use your own\n",
      "            target tensors (in turn, Keras will not expect external\n",
      "            Numpy data for these targets at training time), you\n",
      "            can specify them via the `target_tensors` argument. It can be\n",
      "            a single tensor (for a single-output model), a list of tensors,\n",
      "            or a dict mapping output names to target tensors.\n",
      "        distribute: NOT SUPPORTED IN TF 2.0, please create and compile the\n",
      "            model under distribution strategy scope instead of passing it to\n",
      "            compile.\n",
      "        **kwargs: Any additional arguments.\n",
      "    \n",
      "    Raises:\n",
      "        ValueError: In case of invalid arguments for\n",
      "            `optimizer`, `loss`, `metrics` or `sample_weight_mode`.\n",
      "\n"
     ]
    }
   ],
   "source": [
    "help(model.compile)"
   ]
  },
  {
   "cell_type": "code",
   "execution_count": null,
   "metadata": {},
   "outputs": [],
   "source": [
    "tf.keras.metrics.AUC()"
   ]
  }
 ],
 "metadata": {
  "kernelspec": {
   "display_name": "Python 3",
   "language": "python",
   "name": "python3"
  },
  "language_info": {
   "codemirror_mode": {
    "name": "ipython",
    "version": 3
   },
   "file_extension": ".py",
   "mimetype": "text/x-python",
   "name": "python",
   "nbconvert_exporter": "python",
   "pygments_lexer": "ipython3",
   "version": "3.7.1"
  },
  "toc": {
   "base_numbering": 1,
   "nav_menu": {},
   "number_sections": true,
   "sideBar": true,
   "skip_h1_title": false,
   "title_cell": "Table of Contents",
   "title_sidebar": "Contents",
   "toc_cell": false,
   "toc_position": {},
   "toc_section_display": true,
   "toc_window_display": false
  }
 },
 "nbformat": 4,
 "nbformat_minor": 2
}
